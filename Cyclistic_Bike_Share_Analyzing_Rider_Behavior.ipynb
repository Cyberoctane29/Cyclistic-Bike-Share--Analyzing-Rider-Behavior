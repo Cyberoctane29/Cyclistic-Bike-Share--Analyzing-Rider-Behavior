{
 "cells": [
  {
   "cell_type": "markdown",
   "metadata": {},
   "source": [
    "# Cyclistic Bike Share: Analyzing Rider Behavior"
   ]
  },
  {
   "cell_type": "markdown",
   "metadata": {},
   "source": [
    "## Introduction\n",
    "\n",
    "As a junior data analyst on the marketing analyst team at Cyclistic, I am tasked with analyzing the company's historical bike trip data to understand how casual riders and annual members use Cyclistic bikes differently. This analysis aims to identify trends and insights that will help design a new marketing strategy to convert casual riders into annual members. The project will follow the data analysis process of Ask, Prepare, Process, Analyze, Share, and Act, with the ultimate goal of presenting data-driven recommendations to the Cyclistic executive team."
   ]
  },
  {
   "cell_type": "markdown",
   "metadata": {},
   "source": [
    "## Ask\n"
   ]
  },
  {
   "cell_type": "markdown",
   "metadata": {},
   "source": [
    "\n",
    "Some key questions will guide the development of Cyclistic's future marketing program. My task is to answer the question: \n",
    "\n",
    "**How do annual members and casual riders use Cyclistic bikes differently?**\n",
    "\n",
    "### Business Task\n",
    "The primary objective is to analyze the historical bike trip data to uncover how annual members and casual riders use Cyclistic bikes differently. The insights gained from this analysis will be used to inform marketing strategies aimed at converting casual riders into annual members, thereby increasing the company's profitability and customer retention.\n",
    "\n",
    "### Stakeholders\n",
    "The key stakeholders for this analysis include:\n",
    "- **Lily Moreno:** Director of Marketing, responsible for developing campaigns and initiatives to promote Cyclistic.\n",
    "- **Cyclistic Marketing Team:** A group of data analysts and marketers who will use the insights to craft marketing strategies.\n",
    "- **Cyclistic Executive Team:** The decision-makers who will approve the recommended marketing strategies.\n",
    "\n",
    "### Final Deliverables\n",
    "The final deliverables will include a comprehensive analysis of the data, visualizations to support key findings, and three data-driven recommendations to help Cyclistic convert casual riders into annual members.\n"
   ]
  },
  {
   "cell_type": "markdown",
   "metadata": {},
   "source": [
    "## Prepare\n"
   ]
  },
  {
   "cell_type": "markdown",
   "metadata": {},
   "source": [
    "To analyze and identify trends, I used Cyclistic's historical trip data from recent months. This public data, provided by `Motivate International Inc.` under the appropriate license, allows me to explore how different customer types are using Cyclistic bikes. However, it is important to note that data-privacy issues prevent the use of personally identifiable information, meaning I cannot link purchases to specific customers or identify if casual riders live in the service area or have made multiple single-pass purchases.\n",
    "\n",
    "The dataset is well-organized into Monthly Trip Data files. Each zip file (e.g., `202004-divvy-tripdata.zip`) contains a CSV file (e.g., `202004-divvy-tripdata.csv`) with essential attributes such as `ride_id, rideable_type, started_at, ended_at, start_station_name, start_station_id, end_station_name, end_station_id, start_lat, start_lng, end_lat, end_lng, and member_casual`. These columns provide all the necessary information for analyzing ride patterns and behaviors, focusing on annual members and casual riders.\n",
    "\n",
    "While the dataset is generally reliable, it does have some potential biases. As publicly available data, it may not perfectly reflect all geographic or demographic variations, and since personal identifiers have been removed, certain detailed analyses—such as demographics—cannot be performed.\n",
    "\n",
    "#### **ROCCC Criteria**:\n",
    "\n",
    "* **Reliable**: Sourced from Motivate International Inc.\n",
    "* **Original**: Directly collected from Cyclistic’s bike-share system.\n",
    "* **Comprehensive**: Includes a year's worth of data.\n",
    "* **Current**: Data from the latest 12 months.\n",
    "* **Cited**: Clearly cited licensing information and source.\n",
    "\n",
    "In terms of licensing, the dataset is publicly available under the appropriate license from Motivate International Inc., with privacy safeguards ensuring personal data is excluded. The data is stored securely in accessible formats like CSV and ZIP files, making it easy to download and use.\n",
    "\n",
    "To verify the integrity of the data, I conducted several checks. Missing values were identified, particularly in the station-related fields (start_station_name, start_station_id, end_station_name, end_station_id), and consistency checks were carried out to ensure the formatting was correct. I also validated file completeness by confirming that no files were truncated or corrupted.\n",
    "\n",
    "The dataset is comprehensive enough to answer key questions about usage patterns, ride behaviors, and membership types, allowing me to draw meaningful insights for Cyclistic. However, some issues, such as incomplete records and anonymized data, limit the analysis to some extent.\n",
    "\n",
    "In this phase, I also used tools like Google Sheets to explore and organize the data, sorting and filtering key fields to ensure the dataset was ready for deeper analysis.\n",
    "\n"
   ]
  },
  {
   "cell_type": "markdown",
   "metadata": {},
   "source": [
    "- #### Sort and Filter the Data\n",
    "\n",
    "    Sorted and filtered data to identify missing values and inconsistencies:\n",
    "\n",
    "  - **Google Sheets:**\n",
    "      \n",
    "      Sorting data by 'start_station_name' and 'end_station_name'\n",
    "    Menu Navigation: Data > Sort range > Advanced range sorting options\n",
    "    Apply sorting to columns 'start_station_name' and 'end_station_name'\n",
    "  \n",
    "  - **Filtering for missing values**\n",
    "  \n",
    "         Menu Navigation: Data > Create a filter\n",
    "    Apply filters to identify blanks in relevant columns\n",
    "    \n",
    "  - **Calculating Duration in Minutes**\n",
    "  \n",
    "      Formula: `=AVERAGE(FILTER(D2:D, ISNUMBER(D2:D)))` Where D2:D represents the column with trip durations\n",
    "      \n",
    "  \n",
    "  - **Creating Pivot Table**\n",
    "  \n",
    "    Menu Navigation: Data > Pivot table\n",
    "    Set rows to 'start_station_name' and 'end_station_name', values to count trips\n"
   ]
  },
  {
   "cell_type": "markdown",
   "metadata": {},
   "source": [
    "## Process"
   ]
  },
  {
   "cell_type": "markdown",
   "metadata": {},
   "source": [
    "\n",
    "In this phase, I focused on preparing the Cyclistic bike-share data for in-depth analysis. The goal was to ensure that the data was clean, consistent, and suitable for deriving meaningful insights. Both MySQL and Google Sheets were utilized to achieve this, with each tool serving specific purposes.\n",
    "\n",
    "### Tool Selection\n",
    "\n",
    "- **SQL**: Chosen for its efficiency in handling large datasets and performing complex queries.\n",
    "- **Google Sheets**: Utilized for preliminary data processing tasks, including data integrity checks, summary statistics, and initial insights.\n",
    "\n",
    "### Data Integrity Checks\n",
    "\n",
    "#### Google Sheets\n",
    "\n",
    "1. **Format Validation**:\n",
    "\n",
    "   - **ride_id**: Verified using the `ISTEXT` function to ensure that IDs were in text format.\n",
    "   - **started_at and ended_at**: Verified using the `ISDATE` function to confirm that the dates were correctly formatted.\n",
    "   - **start_lat and start_lng**: Verified using the `ISNUMBER` function to ensure that latitude and longitude values were numeric.\n",
    "   \n",
    "\n",
    "2. **Blanks**:\n",
    "\n",
    "   - Missing values in `start_station_name`, `start_station_id`, `end_station_name`, and `end_station_id` were identified and addressed using filters.\n",
    "   - Removed rows with blank `start_station_name` and handled other missing values appropriately.\n",
    "   \n",
    "\n",
    "3. **Duplicate Entries**:\n",
    "\n",
    "   - Checked and removed duplicate entries using Google Sheets' \"Remove duplicates\" feature.\n",
    "   \n",
    "\n",
    "4. **Duration Consistency**:\n",
    "\n",
    "   - Calculated trip durations in minutes using the formula `=MOD((E2-C2)*24,1)*60` and checked for negative values using conditional formatting and filters.\n",
    "   \n",
    "\n",
    "5. **Geographical Consistency**:\n",
    "\n",
    "   - Verified that latitude and longitude values fell within valid ranges using filters.\n",
    "   \n",
    "\n",
    "6. **Member vs. Casual User Check**:\n",
    "\n",
    "   - Ensured that users were correctly categorized as either 'member' or 'casual' using filters.\n",
    "\n",
    "**Summary Statistics in Google Sheets:**\n",
    "\n",
    "- **Total Number of Trips**: 113,809\n",
    "- **Most Popular Start Station**: Clinton St & Washington Blvd with 1,517 trips\n",
    "- **Most Popular End Station**: Clinton St & Washington Blvd with 1,639 trips\n",
    "- **Most Popular Rideable Type**: Classic with 76,525 trips\n",
    "- **Average Trip Duration**: 9.76 minutes\n",
    "- **Day of Week Analysis**: Created a `day_of_week` column using the formula `=WEEKDAY(C2, 1)`, allowing analysis of trip patterns across different days of the week.\n",
    "- **Insights**:\n",
    "  - **Total Trips**: `=COUNTA(A:A)`\n",
    "  - **Average Trip Duration**: `=AVERAGE(P:P)`\n",
    "  - Created a Pivot Table to analyze the most popular stations and rideable types.\n",
    "\n",
    "#### SQL Processing\n",
    "\n",
    "1. **Initial Data Import and Table Creation**:\n",
    "\n",
    "Imported each dataset into SQL to create tables that preserved all columns from the raw data. For example, the SQL script for `tripdata_202401` was:\n",
    "   \n",
    "   \n",
    "   ```sql\n",
    "   \n",
    "   CREATE DATABASE cyclistic_tripdata;\n",
    "   USE cyclistic_tripdata;\n",
    "\n",
    "   CREATE TABLE tripdata_202401 (\n",
    "       ride_id VARCHAR(255) PRIMARY KEY,\n",
    "       rideable_type VARCHAR(50),\n",
    "       started_at DATETIME,\n",
    "       ended_at DATETIME,\n",
    "       start_station_name VARCHAR(255),\n",
    "       start_station_id VARCHAR(50),\n",
    "       end_station_name VARCHAR(255),\n",
    "       end_station_id VARCHAR(50),\n",
    "       start_lat DOUBLE,\n",
    "       start_lng DOUBLE,\n",
    "       end_lat DOUBLE,\n",
    "       end_lng DOUBLE,\n",
    "       member_casual VARCHAR(50)\n",
    "   );\n",
    "   \n",
    "   \n",
    "```"
   ]
  },
  {
   "cell_type": "markdown",
   "metadata": {},
   "source": [
    "2. **Adding Derived Columns**:\n",
    "\n",
    "Ride Length (`ride_length`): Calculated as the duration of each trip.\n",
    "\n",
    "\n",
    "```sql\n",
    "\n",
    "ALTER TABLE tripdata_202401 ADD COLUMN ride_length TIME;\n",
    "UPDATE tripdata_202401 SET ride_length = TIMEDIFF(ended_at, started_at);\n",
    "\n",
    "\n",
    "```"
   ]
  },
  {
   "cell_type": "markdown",
   "metadata": {},
   "source": [
    "Day of Week (`day_of_week`): Identified the day of the week for each ride.\n",
    "\n",
    "```sql\n",
    "\n",
    "ALTER TABLE tripdata_202401 ADD COLUMN day_of_week INT;\n",
    "UPDATE tripdata_202401 SET day_of_week = DAYOFWEEK(started_at);\n",
    "\n",
    "\n",
    "```"
   ]
  },
  {
   "cell_type": "markdown",
   "metadata": {},
   "source": [
    "3. **Data Quality Checks and Cleaning**:\n",
    "\n",
    "Removing Trips with Negative Duration: Deleted records with negative `ride_length`.\n",
    "\n",
    "\n",
    "   ```sql\n",
    "   \n",
    " DELETE FROM tripdata_202401 WHERE ride_length < 0;\n",
    " \n",
    " \n",
    "```"
   ]
  },
  {
   "cell_type": "markdown",
   "metadata": {},
   "source": [
    "Handling Missing Values: Replaced missing values in station columns with 'UNKNOWN'.\n",
    "\n",
    "  ```sql\n",
    "  \n",
    "UPDATE tripdata_202401 SET start_station_name = 'UNKNOWN' WHERE start_station_name IS NULL;\n",
    "UPDATE tripdata_202401 SET start_station_id = 'UNKNOWN' WHERE start_station_id IS NULL;\n",
    "UPDATE tripdata_202401 SET end_station_name = 'UNKNOWN' WHERE end_station_name IS NULL;\n",
    "UPDATE tripdata_202401 SET end_station_id = 'UNKNOWN' WHERE end_station_id IS NULL;\n",
    "\n",
    "\n",
    "```"
   ]
  },
  {
   "cell_type": "markdown",
   "metadata": {},
   "source": [
    "Replaced blank values with 'UNKNOWN':\n",
    "\n",
    "\n",
    "  ```sql\n",
    "  \n",
    "UPDATE tripdata_202401 SET start_station_name = 'UNKNOWN' WHERE TRIM(start_station_name) = '';\n",
    "UPDATE tripdata_202401 SET start_station_id = 'UNKNOWN' WHERE TRIM(start_station_id) = '';\n",
    "UPDATE tripdata_202401 SET end_station_name = 'UNKNOWN' WHERE TRIM(end_station_name) = '';\n",
    "UPDATE tripdata_202401 SET end_station_id = 'UNKNOWN' WHERE TRIM(end_station_id) = '';\n",
    "\n",
    "\n",
    "```\n"
   ]
  },
  {
   "cell_type": "markdown",
   "metadata": {},
   "source": [
    "Standardizing Text Fields: Converted station names to uppercase for consistency.\n",
    "   \n",
    "\n",
    "  ```sql\n",
    "  \n",
    "UPDATE tripdata_202401 SET start_station_name = UPPER(start_station_name), end_station_name = UPPER(end_station_name);\n",
    "\n",
    "\n",
    "```"
   ]
  },
  {
   "cell_type": "markdown",
   "metadata": {},
   "source": [
    "Handling Long Duration Trips: Removed trips lasting over 24 hours.\n",
    "\n",
    "\n",
    "  ```sql\n",
    "  \n",
    "DELETE FROM tripdata_202401 WHERE TIME_TO_SEC(ride_length) / 60 > 1440;\n",
    "\n",
    "\n",
    "```"
   ]
  },
  {
   "cell_type": "markdown",
   "metadata": {},
   "source": [
    "4. **Stations with Missing Return Trips**:\n",
    "\n",
    "Identified stations where trips started but no corresponding trips ended.\n",
    "\n",
    "```sql\n",
    "   \n",
    "SELECT COUNT(*) \n",
    "FROM tripdata_202401\n",
    "WHERE end_station_name NOT IN (SELECT DISTINCT start_station_name FROM tripdata_202401);\n",
    "\n",
    "\n",
    "```"
   ]
  },
  {
   "cell_type": "markdown",
   "metadata": {},
   "source": [
    "Revealed 95 such stations in the tripdata_202401 dataset. Similar queries were run for other months.\n"
   ]
  },
  {
   "cell_type": "markdown",
   "metadata": {},
   "source": [
    "5. **Summary Statistics**:\n",
    "\n",
    "* After cleaning and merging the datasets, key statistics were computed:\n",
    "\n",
    "     - Total Number of Trips: 564,012\n",
    "     - Most Popular Start Station: Clinton St & Washington Blvd with 1,517 trips\n",
    "     - Most Popular End Station: Clinton St & Washington Blvd with 1,639 trips\n",
    "     - Most Popular Rideable Type: Classic with 76,525 trips\n",
    "     - Average Trip Duration: 9.76 minutes"
   ]
  },
  {
   "cell_type": "markdown",
   "metadata": {},
   "source": [
    "6. **Final Data Verification**:\n",
    "\n",
    "* Performed final checks to ensure data integrity:\n",
    "\n",
    "```sql\n",
    "SELECT * FROM tripdata_202401 LIMIT 10;\n",
    "SELECT * FROM tripdata_202405 LIMIT 10;\n",
    "SELECT * FROM tripdata_202406 LIMIT 10;\n",
    "SELECT * FROM tripdata_202407 LIMIT 10;\n",
    "```\n"
   ]
  },
  {
   "cell_type": "markdown",
   "metadata": {},
   "source": [
    "### Conclusion\n",
    "\n",
    "Through meticulous data cleaning and transformation using SQL and Google Sheets, the Cyclistic trip data was refined into a reliable and consistent dataset. This prepared dataset is now ready for in-depth analysis to derive meaningful insights and inform marketing strategies aimed at converting casual riders into annual members."
   ]
  },
  {
   "cell_type": "markdown",
   "metadata": {},
   "source": [
    "## Analyze\n"
   ]
  },
  {
   "cell_type": "markdown",
   "metadata": {},
   "source": [
    "### Common Analysis\n",
    "\n",
    "The Common Analysis phase of this project focuses on analyzing Cyclistic trip data for `January, May, June, and July 2024`. The primary goal is to understand how annual members and casual riders use Cyclistic bikes differently. I performed a series of `SQL` queries using `MySQL` to clean, structure, and analyze the dataset. The dataset contains detailed ride information, such as start times, end times, ride durations, and station usage, which were crucial in uncovering usage patterns, ride durations, and popular ride days for both user groups.\n",
    "\n",
    "Additionally, I utilized `R` for visualizations based on the query results obtained from `MySQL`. By leveraging these tools, I efficiently handled the data to identify trends, explore relationships between key variables, and gain actionable insights for the business."
   ]
  },
  {
   "cell_type": "code",
   "execution_count": 1,
   "metadata": {
    "execution": {
     "iopub.execute_input": "2024-09-26T12:40:43.210309Z",
     "iopub.status.busy": "2024-09-26T12:40:43.208242Z",
     "iopub.status.idle": "2024-09-26T12:40:43.946707Z"
    },
    "trusted": true,
    "vscode": {
     "languageId": "r"
    }
   },
   "outputs": [
    {
     "ename": "ERROR",
     "evalue": "Error in library(ggplot2): there is no package called 'ggplot2'\n",
     "output_type": "error",
     "traceback": [
      "Error in library(ggplot2): there is no package called 'ggplot2'\nTraceback:\n",
      "1. stop(packageNotFoundError(package, lib.loc, sys.call()))"
     ]
    }
   ],
   "source": [
    "library(ggplot2)\n",
    "library(readr)\n",
    "library(tidyr)\n",
    "library(scales)\n",
    "library(dplyr)"
   ]
  },
  {
   "cell_type": "markdown",
   "metadata": {},
   "source": [
    "**Step 1: Combining Datasets**:\n",
    "\n",
    "To ensure a unified dataset for analysis, I started by combining four months of trip data (January, May, June, and July) into a single dataset using the following query:\n",
    "\n",
    "```sql\n",
    "\n",
    "WITH cte AS(\n",
    "  SELECT * FROM tripdata_202401\n",
    "  UNION ALL\n",
    "  SELECT * FROM tripdata_202405\n",
    "  UNION ALL\n",
    "  SELECT * FROM tripdata_202406\n",
    "  UNION ALL\n",
    "  SELECT * FROM tripdata_202407\n",
    ")\n",
    "SELECT COUNT(DISTINCT ride_id) FROM cte;\n",
    "\n",
    "\n",
    "```\n",
    "\n",
    "result:\n",
    "\n",
    "```sql\n",
    "\n",
    "| count(distinct ride_id) |\n",
    "|-------------------------|\n",
    "| 564012                  |\n",
    "\n",
    "\n",
    "```\n",
    "\n",
    "\n",
    "This `CTE (Common Table Expression)` helped combine multiple tables into one and calculated the total number of distinct rides. The result was `564,012` unique rides across all four months.\n",
    "\n",
    "Next, I wanted to understand how many unique rides occurred from May to July, which yielded `452,940` unique rides using this query:\n",
    "\n",
    "```sql\n",
    "\n",
    "WITH cte AS (\n",
    "    SELECT * FROM tripdata_202405\n",
    "    UNION ALL\n",
    "    SELECT * FROM tripdata_202406\n",
    "    UNION ALL\n",
    "    SELECT * FROM tripdata_202407\n",
    ")\n",
    "SELECT COUNT(DISTINCT ride_id) AS unique_ride_count\n",
    "FROM cte;\n",
    "\n",
    "\n",
    "```\n",
    "\n",
    "result:\n",
    "\n",
    "```sql\n",
    "\n",
    "| unique_ride_count |\n",
    "|-------------------|\n",
    "| 452940            |\n",
    "\n",
    "\n",
    "```\n",
    "\n",
    "```sql\n",
    "\n",
    "SELECT 564012-452940;\n",
    "\n",
    "\n",
    "```\n",
    "\n",
    "result:\n",
    "\n",
    "```sql\n",
    "\n",
    "| 564012 - 452940 |\n",
    "|-----------------|\n",
    "| 111072          |\n",
    "\n",
    "\n",
    "```\n",
    "\n",
    "Subtracting the two counts showed that there were `111,072` rides in January."
   ]
  },
  {
   "cell_type": "code",
   "execution_count": null,
   "metadata": {
    "execution": {
     "iopub.execute_input": "2024-09-26T12:40:47.624618Z",
     "iopub.status.busy": "2024-09-26T12:40:47.622305Z",
     "iopub.status.idle": "2024-09-26T12:40:48.159909Z"
    },
    "trusted": true,
    "vscode": {
     "languageId": "r"
    }
   },
   "outputs": [],
   "source": [
    "monthly_ride_data <- read_csv(\"C:\\Users\\saswa\\Documents\\GitHub\\Cyclistic-Bike-Share--Analyzing-Rider-Behavior\\Data\\viz data\\1-month_tripcount.csv\")"
   ]
  },
  {
   "cell_type": "code",
   "execution_count": null,
   "metadata": {
    "execution": {
     "iopub.execute_input": "2024-09-26T12:40:50.709792Z",
     "iopub.status.busy": "2024-09-26T12:40:50.707332Z",
     "iopub.status.idle": "2024-09-26T12:40:51.355731Z"
    },
    "trusted": true,
    "vscode": {
     "languageId": "r"
    }
   },
   "outputs": [],
   "source": [
    "ggplot(monthly_ride_data, aes(x = month, y = ride_count)) +\n",
    "  geom_bar(stat = \"identity\", fill = \"steelblue\", width = 0.5) +\n",
    "  labs(title = \"Number of Rides per Month\",\n",
    "       x = \"Month\",\n",
    "       y = \"Number of Rides\") +\n",
    "  theme_minimal() +\n",
    "  theme(\n",
    "    plot.title = element_text(size = 20, hjust = 0),  \n",
    "    axis.title.x = element_text(size = 16),           \n",
    "    axis.title.y = element_text(size = 16)           \n",
    "  )"
   ]
  },
  {
   "cell_type": "markdown",
   "metadata": {},
   "source": [
    "**Step 2: Creating a Combined Table**:\n",
    "\n",
    "To facilitate further analysis, I created a new table that consolidates all four months' trip data:\n",
    "\n",
    "```sql\n",
    "\n",
    "CREATE TABLE combined_tripdata AS\n",
    "SELECT * FROM tripdata_202401\n",
    "UNION ALL\n",
    "SELECT * FROM tripdata_202405\n",
    "UNION ALL\n",
    "SELECT * FROM tripdata_202406\n",
    "UNION ALL\n",
    "SELECT * FROM tripdata_202407;\n",
    "\n",
    "\n",
    "```\n",
    "\n",
    "The combined_tripdata table now holds all data from `January, May, June, and July` for easier querying and analysis.\n",
    "\n"
   ]
  },
  {
   "cell_type": "markdown",
   "metadata": {},
   "source": [
    "**Step 3: Data Cleaning**:\n",
    "\n",
    "To ensure data accuracy and consistency, the dataset underwent a thorough cleaning process, which included replacing blank station names with 'UNKNOWN' and removing rows with negative ride lengths. After these steps, the dataset contained 551,083 valid rides, ready for analysis.\n"
   ]
  },
  {
   "cell_type": "markdown",
   "metadata": {},
   "source": [
    "**Step 4: Adding and Processing Ride Length in Minutes**:\n",
    "\n",
    "Since the original `ride_length` column was in seconds, I added a new column called `ride_length_minutes` to convert ride lengths into minutes, which would make the analysis easier and more intuitive:\n",
    "\n",
    "```sql\n",
    "\n",
    "ALTER TABLE combined_tripdata ADD COLUMN ride_length_minutes DECIMAL(10, 2);\n",
    "\n",
    "UPDATE combined_tripdata\n",
    "SET ride_length_minutes = ROUND(TIME_TO_SEC(ride_length) / 60, 2);\n",
    "\n",
    "\n",
    "```\n",
    "\n",
    "After running this query, I was able to confirm the ride lengths in minutes. For example, a few entries had ride lengths like `5.08, 42.60, 14.65 minutes`, and so on."
   ]
  },
  {
   "cell_type": "markdown",
   "metadata": {},
   "source": [
    "**Step 5: Removing Outliers**:\n",
    "\n",
    "In this step, I eliminated outliers by removing any rides longer than `720 minutes (12 hours)` and any rides shorter than `1 minute`. These are considered extreme or invalid data points:\n",
    "\n",
    "```sql\n",
    "\n",
    "DELETE FROM combined_tripdata\n",
    "WHERE ride_length_minutes > 720;\n",
    "\n",
    "DELETE FROM combined_tripdata\n",
    "WHERE ride_length_minutes <= 1;\n",
    "\n",
    "\n",
    "```\n",
    "\n",
    "These steps ensured that the dataset only contains valid and reasonable ride durations.\n",
    "\n"
   ]
  },
  {
   "cell_type": "markdown",
   "metadata": {},
   "source": [
    "**Step 6: Summary Statistics**:\n",
    "\n",
    "To gain insights into the average ride length, I calculated the mean ride length for all valid trips in the dataset:\n",
    "\n",
    "```sql\n",
    "\n",
    "SELECT ROUND(AVG(ride_length_minutes), 2) AS avg_ride_length_minutes\n",
    "FROM combined_tripdata;\n",
    "\n",
    "\n",
    "```\n",
    "\n",
    "result:\n",
    "\n",
    "```sql\n",
    "\n",
    "| avg_ride_length_minutes  |\n",
    "|--------------------------|\n",
    "| 15.92                    |\n",
    "\n",
    "\n",
    "```\n",
    "\n",
    "The average ride length was `15.92 minutes`, providing a good reference point for further comparisons between members and casual riders.\n",
    "\n",
    "Additionally, I checked the maximum and minimum ride lengths:\n",
    "\n",
    "```sql\n",
    "SELECT MAX(ride_length_minutes) AS max_ride_length_minutes FROM combined_tripdata;\n",
    "```\n",
    "\n",
    "result:\n",
    "\n",
    "```sql\n",
    "\n",
    "| max_ride_length_minutes  |\n",
    "|--------------------------|\n",
    "| 718.10                   |\n",
    "\n",
    "\n",
    "```\n",
    "\n",
    "```sql\n",
    "SELECT MIN(ride_length_minutes) AS min_ride_length_minutes FROM combined_tripdata;\n",
    "\n",
    "```\n",
    "\n",
    "result:\n",
    "\n",
    "```sql\n",
    "\n",
    "| min_ride_length_minutes  |\n",
    "|--------------------------|\n",
    "| 1.02                     |\n",
    "\n",
    "\n",
    "```\n",
    "\n",
    "This confirmed that rides longer than `720 minutes` had been successfully removed, with the maximum remaining ride length being `718.10 minutes`."
   ]
  },
  {
   "cell_type": "markdown",
   "metadata": {},
   "source": [
    "**Step 7: Ride Duration Distribution**:\n",
    "\n",
    "To analyze ride duration, the data was segmented into two groups: \n",
    "\n",
    "rides above and below `120 minutes`, further split by user type (member or casual).\n",
    "\n",
    "```sql\n",
    "\n",
    "SELECT \n",
    "    CASE \n",
    "        WHEN ride_length_minutes > 120 THEN 'Above 120 minutes'\n",
    "        ELSE 'Below 120 minutes'\n",
    "    END AS duration_group, \n",
    "    member_casual,\n",
    "    COUNT(ride_id) AS number_of_rides\n",
    "FROM combined_tripdata\n",
    "GROUP BY duration_group, member_casual;\n",
    "\n",
    "\n",
    "```\n",
    "\n",
    "result:\n",
    "\n",
    "```sql\n",
    "\n",
    "| duration_group        | member_casual  | number_of_rides  |\n",
    "|-----------------------|----------------|------------------|\n",
    "| Below 120 minutes     | member         | 356482           |\n",
    "| Below 120 minutes     | casual         | 190997           |\n",
    "| Above 120 minutes     | casual         | 3012             |\n",
    "| Above 120 minutes     | member         | 597              |\n",
    "\n",
    "\n",
    "```\n",
    "\n",
    "**Key findings**:\n",
    "\n",
    "Members:\n",
    "\n",
    "* `356,482` rides under `120 minutes`.\n",
    "* `597` rides over `120 minutes`.\n",
    "\n",
    "Casual Riders:\n",
    "\n",
    "* `190,997` rides under `120 minutes`.\n",
    "* `3,012` rides over `120 minutes`.\n",
    "\n",
    "This analysis shows that casual riders tend to have significantly longer trips, with more rides exceeding `120 minutes`, compared to members."
   ]
  },
  {
   "cell_type": "code",
   "execution_count": null,
   "metadata": {
    "execution": {
     "iopub.execute_input": "2024-09-26T12:51:36.596519Z",
     "iopub.status.busy": "2024-09-26T12:51:36.594108Z",
     "iopub.status.idle": "2024-09-26T12:51:36.711790Z"
    },
    "trusted": true,
    "vscode": {
     "languageId": "r"
    }
   },
   "outputs": [],
   "source": [
    "ride_comparison_data <- read_csv(\"C:\\Users\\saswa\\Documents\\GitHub\\Cyclistic-Bike-Share--Analyzing-Rider-Behavior\\Data\\viz data\\3-ride_id_member_casual_ride_length_minutes.csv\")"
   ]
  },
  {
   "cell_type": "code",
   "execution_count": null,
   "metadata": {
    "execution": {
     "iopub.execute_input": "2024-09-26T12:51:38.880336Z",
     "iopub.status.busy": "2024-09-26T12:51:38.878533Z",
     "iopub.status.idle": "2024-09-26T12:51:38.915855Z"
    },
    "trusted": true,
    "vscode": {
     "languageId": "r"
    }
   },
   "outputs": [],
   "source": [
    "long_data <- ride_comparison_data %>%\n",
    "  pivot_longer(cols = c(Above_120, Below_120), \n",
    "               names_to = \"duration_group\", \n",
    "               values_to = \"number_of_rides\")"
   ]
  },
  {
   "cell_type": "code",
   "execution_count": null,
   "metadata": {
    "execution": {
     "iopub.execute_input": "2024-09-26T12:51:41.569537Z",
     "iopub.status.busy": "2024-09-26T12:51:41.567475Z",
     "iopub.status.idle": "2024-09-26T12:51:42.081224Z"
    },
    "trusted": true,
    "vscode": {
     "languageId": "r"
    }
   },
   "outputs": [],
   "source": [
    "ggplot(long_data, aes(x = member_casual, y = number_of_rides, fill = duration_group)) +\n",
    "  geom_bar(stat = \"identity\", width = 0.4) +  \n",
    "  geom_text(aes(label = number_of_rides), \n",
    "            position = position_stack(vjust = 0.5),   \n",
    "            color = \"white\", size = 5) +              \n",
    "  labs(title = \"Ride Duration Distribution by Rider Type (Logarithmic Scale)\",\n",
    "       x = \"User Type\",\n",
    "       y = \"Number of Rides\") +\n",
    "  scale_y_log10(breaks = scales::breaks_log(n = 5)) +  \n",
    "  theme_minimal() +\n",
    "  theme(\n",
    "    plot.title = element_text(size = 16, hjust = 0), \n",
    "    axis.title.x = element_text(size = 15),           \n",
    "    axis.title.y = element_text(size = 15)            \n",
    "  )"
   ]
  },
  {
   "cell_type": "markdown",
   "metadata": {},
   "source": [
    "### Indepth Analysis\n",
    "\n",
    "The indepth analysis delves into various aspects of Cyclistic's bike usage data, focusing on ride lengths, hourly usage patterns, station usage, and correlations with member types. This comprehensive approach helps to identify key trends and actionable insights."
   ]
  },
  {
   "cell_type": "markdown",
   "metadata": {},
   "source": [
    "**Step-1-Distribution of Ride Lengths**:\n",
    "\n",
    "**Percentile Analysis**: \n",
    "\n",
    "To understand the distribution of ride lengths more thoroughly, I analyzed the data using percentiles.\n",
    "\n",
    "```sql\n",
    "\n",
    "WITH RankedData AS (\n",
    "    SELECT\n",
    "        ride_length_minutes,\n",
    "        NTILE(100) OVER (ORDER BY ride_length_minutes) AS percentile_rank\n",
    "    FROM combined_tripdata\n",
    ")\n",
    "SELECT\n",
    "    MAX(CASE WHEN percentile_rank <= 25 THEN ride_length_minutes END) AS p25,\n",
    "    MAX(CASE WHEN percentile_rank <= 50 THEN ride_length_minutes END) AS p50,\n",
    "    MAX(CASE WHEN percentile_rank <= 75 THEN ride_length_minutes END) AS p75\n",
    "FROM RankedData;\n",
    "\n",
    "\n",
    "```\n",
    "\n",
    "result:\n",
    "\n",
    "```sql\n",
    "\n",
    "| p25  | p50  | p75  |\n",
    "|------|------|------|\n",
    "| 5.95 | 10.25| 18.18|\n",
    "\n",
    "\n",
    "```\n",
    "\n",
    "Percentile Values:\n",
    "\n",
    "p25: `5.95 minutes`\n",
    "\n",
    "p50: `10.25 minutes`\n",
    "\n",
    "p75: `18.18 minutes`\n",
    "\n",
    "\n",
    "**Key findings**:\n",
    "\n",
    "The median ride length is just over `10 minutes`, indicating that `50%` of rides are relatively short.\n",
    "\n",
    "`25%` of rides are even shorter than around `6 minutes`, suggesting frequent short trips.\n",
    "\n",
    "**Percentile Analysis by Member Type**: \n",
    "\n",
    "I segmented the data by member type to observe differences in ride lengths.\n",
    "\n",
    "```sql\n",
    "\n",
    "WITH RankedData AS (\n",
    "    SELECT\n",
    "        member_casual,\n",
    "        ride_length_minutes,\n",
    "        NTILE(100) OVER (PARTITION BY member_casual ORDER BY ride_length_minutes) AS percentile_rank\n",
    "    FROM combined_tripdata\n",
    ")\n",
    "SELECT\n",
    "    member_casual,\n",
    "    MAX(CASE WHEN percentile_rank <= 25 THEN ride_length_minutes END) AS p25,\n",
    "    MAX(CASE WHEN percentile_rank <= 50 THEN ride_length_minutes END) AS p50,\n",
    "    MAX(CASE WHEN percentile_rank <= 75 THEN ride_length_minutes END) AS p75\n",
    "FROM RankedData\n",
    "GROUP BY member_casual;\n",
    "\n",
    "\n",
    "```\n",
    "result:\n",
    "\n",
    "```sql\n",
    "\n",
    "| member_casual  | p25  | p50  | p75  |\n",
    "|----------------|------|------|------|\n",
    "| casual         | 7.58 | 13.45| 25.18|\n",
    "| member         | 5.37 | 9.02 | 15.25|\n",
    "\n",
    "\n",
    "```\n",
    "\n",
    "**Percentile Values**:\n",
    "\n",
    "Casual Riders:\n",
    "\n",
    "p25: `7.58 minutes`\n",
    "\n",
    "p50: `13.45 minutes`\n",
    "\n",
    "p75: `25.18 minutes`\n",
    "\n",
    "Members:\n",
    "\n",
    "p25: `5.37 minutes`\n",
    "\n",
    "p50: `9.02 minutes`\n",
    "\n",
    "p75: `15.25 minutes`\n",
    "\n",
    "\n",
    "**Key findings**:\n",
    "\n",
    "Casual riders tend to take longer rides compared to members, especially in the upper percentiles.\n",
    "\n"
   ]
  },
  {
   "cell_type": "code",
   "execution_count": null,
   "metadata": {
    "execution": {
     "iopub.execute_input": "2024-09-24T04:10:49.308643Z",
     "iopub.status.busy": "2024-09-24T04:10:49.257742Z",
     "iopub.status.idle": "2024-09-24T04:10:49.993104Z"
    },
    "trusted": true,
    "vscode": {
     "languageId": "r"
    }
   },
   "outputs": [],
   "source": [
    "percentile_data <- read_csv(\"C:\\Users\\saswa\\Documents\\GitHub\\Cyclistic-Bike-Share--Analyzing-Rider-Behavior\\Data\\viz data\\7-percentile_membr_casual.csv\")"
   ]
  },
  {
   "cell_type": "code",
   "execution_count": null,
   "metadata": {
    "execution": {
     "iopub.execute_input": "2024-09-24T04:12:21.524371Z",
     "iopub.status.busy": "2024-09-24T04:12:21.522014Z",
     "iopub.status.idle": "2024-09-24T04:12:21.548508Z"
    },
    "trusted": true,
    "vscode": {
     "languageId": "r"
    }
   },
   "outputs": [],
   "source": [
    "percentile_long <- percentile_data %>%\n",
    "  gather(key = \"percentile\", value = \"ride_length\", p25, p50, p75)"
   ]
  },
  {
   "cell_type": "code",
   "execution_count": null,
   "metadata": {
    "execution": {
     "iopub.execute_input": "2024-09-24T04:13:12.224527Z",
     "iopub.status.busy": "2024-09-24T04:13:12.221962Z",
     "iopub.status.idle": "2024-09-24T04:13:12.846669Z"
    },
    "trusted": true,
    "vscode": {
     "languageId": "r"
    }
   },
   "outputs": [],
   "source": [
    "ggplot(percentile_long, aes(x = member_casual, y = ride_length, fill = percentile)) +\n",
    "  geom_bar(stat = \"identity\", position = \"dodge\", width = 0.6) +\n",
    "  labs(title = \"Percentile Analysis of Ride Length by Member Type\",\n",
    "       x = \"Member Type\",\n",
    "       y = \"Ride Length (Minutes)\") +\n",
    "  scale_fill_manual(values = c(\"steelblue\", \"coral\", \"darkgreen\"), \n",
    "                    labels = c(\"25th Percentile\", \"50th Percentile\", \"75th Percentile\")) +\n",
    "  theme_minimal() +\n",
    "  theme(\n",
    "    plot.title = element_text(size = 18, hjust = 0),\n",
    "    axis.title.x = element_text(size = 16),\n",
    "    axis.title.y = element_text(size = 16),\n",
    "    legend.title = element_blank()\n",
    "  )"
   ]
  },
  {
   "cell_type": "markdown",
   "metadata": {},
   "source": [
    "**Step-2-Hourly Usage Patterns**:\n",
    "\n",
    "**Ride Count by Hour of Day**:\n",
    "\n",
    "To determine peak usage times, I added an hour_of_day column and analyzed ride counts.\n",
    "\n",
    "```sql\n",
    "ALTER TABLE combined_tripdata ADD COLUMN hour_of_day INT;\n",
    "\n",
    "UPDATE combined_tripdata\n",
    "SET hour_of_day = HOUR(started_at);\n",
    "\n",
    "SELECT \n",
    "    HOUR(started_at) AS hour_of_day,\n",
    "    member_casual,\n",
    "    COUNT(ride_id) AS number_of_rides\n",
    "FROM combined_tripdata\n",
    "GROUP BY hour_of_day, member_casual\n",
    "ORDER BY hour_of_day, member_casual;\n",
    "\n",
    "```\n",
    "\n",
    "result:\n",
    "\n",
    "```sql\n",
    "\n",
    "| hour_of_day | member_casual | number_of_rides  |\n",
    "|-------------|---------------|------------------|\n",
    "| 0           | casual        | 3049             |\n",
    "| 0           | member        | 2891             |\n",
    "| 1           | casual        | 2148             |\n",
    "| 1           | member        | 1722             |\n",
    "| 2           | casual        | 1362             |\n",
    "| 2           | member        | 1021             |\n",
    "| 3           | casual        | 693              |\n",
    "| 3           | member        | 676              |\n",
    "| 4           | casual        | 501              |\n",
    "| 4           | member        | 827              |\n",
    "| 5           | casual        | 1173             |\n",
    "| 5           | member        | 3893             |\n",
    "| 6           | casual        | 2434             |\n",
    "| 6           | member        | 10980            |\n",
    "| 7           | casual        | 4497             |\n",
    "| 7           | member        | 20026            |\n",
    "| 8           | casual        | 6461             |\n",
    "| 8           | member        | 24364            |\n",
    "| 9           | casual        | 6397             |\n",
    "| 9           | member        | 16151            |\n",
    ".\n",
    ".\n",
    ".\n",
    "-- upto 23 hours\n",
    "\n",
    "\n",
    "```\n",
    "\n",
    "**Peak Hours**:\n",
    "\n",
    "`6 AM to 9 AM`: High ride counts, especially among members.\n",
    "\n",
    "`4 PM to 7 PM`: Also peak times with high counts for both members and casual riders.\n",
    "\n",
    "**Key findings**:\n",
    "\n",
    "Members use bikes more frequently during peak commuting hours compared to casual riders."
   ]
  },
  {
   "cell_type": "code",
   "execution_count": null,
   "metadata": {
    "execution": {
     "iopub.execute_input": "2024-09-24T04:20:41.210084Z",
     "iopub.status.busy": "2024-09-24T04:20:41.207471Z",
     "iopub.status.idle": "2024-09-24T04:20:41.329164Z"
    },
    "trusted": true,
    "vscode": {
     "languageId": "r"
    }
   },
   "outputs": [],
   "source": [
    "hourly_data <- read_csv(\"C:\\Users\\saswa\\Documents\\GitHub\\Cyclistic-Bike-Share--Analyzing-Rider-Behavior\\Data\\viz data\\8-hour_of_day_member_casual_number_of_rides.csv\")"
   ]
  },
  {
   "cell_type": "code",
   "execution_count": null,
   "metadata": {
    "execution": {
     "iopub.execute_input": "2024-09-24T04:20:53.185475Z",
     "iopub.status.busy": "2024-09-24T04:20:53.182869Z",
     "iopub.status.idle": "2024-09-24T04:20:53.685438Z"
    },
    "trusted": true,
    "vscode": {
     "languageId": "r"
    }
   },
   "outputs": [],
   "source": [
    "ggplot(hourly_data, aes(x = hour_of_day, y = number_of_rides, color = member_casual, group = member_casual)) +\n",
    "  geom_line(size = 1.2) +  \n",
    "  geom_point(size = 2) +   \n",
    "  labs(title = \"Ride Count by Hour of Day\",\n",
    "       x = \"Hour of Day\",\n",
    "       y = \"Number of Rides\",\n",
    "       color = \"User Type\") +\n",
    "  theme_minimal() +\n",
    "  theme(\n",
    "    plot.title = element_text(size = 20, hjust = 0),  \n",
    "    axis.title.x = element_text(size = 16),          \n",
    "    axis.title.y = element_text(size = 16),          \n",
    "    legend.title = element_text(size = 14)            \n",
    "  )"
   ]
  },
  {
   "cell_type": "markdown",
   "metadata": {},
   "source": [
    "**Ride Counts by Hour and Day**:\n",
    "\n",
    "To analyze ride counts across different days of the week and hours of the day, I categorized the data by both hour_of_day and day_of_week, enabling a comprehensive understanding of usage patterns.\n",
    "\n",
    "\n",
    "```sql\n",
    "\n",
    "SELECT \n",
    "    HOUR(started_at) AS hour_of_day,\n",
    "    CASE \n",
    "        WHEN day_of_week = 1 THEN 'Sunday'\n",
    "        WHEN day_of_week = 2 THEN 'Monday'\n",
    "        WHEN day_of_week = 3 THEN 'Tuesday'\n",
    "        WHEN day_of_week = 4 THEN 'Wednesday'\n",
    "        WHEN day_of_week = 5 THEN 'Thursday'\n",
    "        WHEN day_of_week = 6 THEN 'Friday'\n",
    "        WHEN day_of_week = 7 THEN 'Saturday'\n",
    "    END AS day_name,\n",
    "    member_casual,\n",
    "    COUNT(ride_id) AS number_of_rides\n",
    "FROM combined_tripdata\n",
    "GROUP BY hour_of_day, day_of_week, member_casual\n",
    "ORDER BY hour_of_day, day_of_week, member_casual;\n",
    "\n",
    "\n",
    "```\n",
    "\n",
    "result:\n",
    "\n",
    "```sql\n",
    "\n",
    "| hour_of_day | day_name | member_casual  | number_of_rides  |\n",
    "|-------------|----------|----------------|------------------|\n",
    "| 0           | Sunday   | casual         | 741              |\n",
    "| 0           | Sunday   | member         | 662              |\n",
    "| 0           | Monday   | casual         | 321              |\n",
    "| 0           | Monday   | member         | 337              |\n",
    "| 0           | Tuesday  | casual         | 189              |\n",
    "| 0           | Tuesday  | member         | 238              |\n",
    "| 0           | Wednesday| casual         | 252              |\n",
    "| 0           | Wednesday| member         | 248              |\n",
    "| 0           | Thursday | casual         | 372              |\n",
    "| 0           | Thursday | member         | 322              |\n",
    "| 0           | Friday   | casual         | 409              |\n",
    "| 0           | Friday   | member         | 423              |\n",
    "| 0           | Saturday | casual         | 765              |\n",
    "| 0           | Saturday | member         | 661              |\n",
    "| 1           | Sunday   | casual         | 494              |\n",
    "| 1           | Sunday   | member         | 404              |\n",
    "| 1           | Monday   | casual         | 313              |\n",
    "| 1           | Monday   | member         | 248              |\n",
    "| 1           | Tuesday  | casual         | 129              |\n",
    "| 1           | Tuesday  | member         | 117              |\n",
    ".\n",
    ".\n",
    ".\n",
    "-- upto 23 hours\n",
    "\n",
    "\n",
    "```\n",
    "\n",
    "**Key Findings**:\n",
    "\n",
    "Peak Usage Days: Weekdays, particularly `Monday to Friday`, exhibit higher ride counts compared to weekends, with `Saturday` being the busiest day for casual riders.\n",
    "\n",
    "Hourly Trends: The highest ride counts occur during morning (`7 AM to 10 AM`) and evening (`4 PM to 7 PM`) peak hours, with members showing consistent usage during these times while casual riders display increased activity on weekends."
   ]
  },
  {
   "cell_type": "code",
   "execution_count": null,
   "metadata": {
    "execution": {
     "iopub.execute_input": "2024-09-26T13:13:17.965117Z",
     "iopub.status.busy": "2024-09-26T13:13:17.963023Z",
     "iopub.status.idle": "2024-09-26T13:13:18.050467Z"
    },
    "trusted": true,
    "vscode": {
     "languageId": "r"
    }
   },
   "outputs": [],
   "source": [
    "heatmap_data <- read_csv(\"C:\\Users\\saswa\\Documents\\GitHub\\Cyclistic-Bike-Share--Analyzing-Rider-Behavior\\Data\\viz data\\9-hour_of_day_day_of_week_member_casual_number_of_rides.csv\")"
   ]
  },
  {
   "cell_type": "code",
   "execution_count": null,
   "metadata": {
    "execution": {
     "iopub.execute_input": "2024-09-26T13:13:21.240075Z",
     "iopub.status.busy": "2024-09-26T13:13:21.237887Z",
     "iopub.status.idle": "2024-09-26T13:13:21.771669Z"
    },
    "trusted": true,
    "vscode": {
     "languageId": "r"
    }
   },
   "outputs": [],
   "source": [
    "ggplot(heatmap_data, aes(x = hour_of_day, y = day_name, fill = number_of_rides)) +\n",
    "  geom_tile(color = \"black\") +  \n",
    "  scale_fill_gradient(low = \"white\", high = \"blue\") +  \n",
    "  labs(title = \"Heatmap of Ride Counts by Hour and Day of the Week\", \n",
    "       x = \"Hour of Day\", \n",
    "       y = \"Day of Week\", \n",
    "       fill = \"Number of Rides\") +\n",
    "  theme_minimal() +\n",
    "  theme(\n",
    "    axis.text.x = element_text(angle = 45, hjust = 1), \n",
    "    axis.title.x = element_text(margin = margin(t = 10)),  \n",
    "    axis.title.y = element_text(margin = margin(r = 10))  \n",
    "  )"
   ]
  },
  {
   "cell_type": "markdown",
   "metadata": {},
   "source": [
    "**Step-3-Station Usage**:\n",
    "\n",
    "**Top Start Stations**:\n",
    "\n",
    "```sql\n",
    "\n",
    "SELECT start_station_name, COUNT(*) AS trip_count\n",
    "FROM combined_tripdata\n",
    "GROUP BY start_station_name\n",
    "ORDER BY trip_count DESC\n",
    "LIMIT 10;\n",
    "\n",
    "\n",
    "```\n",
    "result:\n",
    "\n",
    "```sql\n",
    "\n",
    "| start_station_name                         | trip_count |\n",
    "|--------------------------------------------|------------|\n",
    "| DUSABLE LAKE SHORE DR & NORTH BLVD         | 6203       |\n",
    "| STREETER DR & GRAND AVE                    | 5021       |\n",
    "| KINGSBURY ST & KINZIE ST                   | 4872       |\n",
    "| CLARK ST & ELM ST                          | 4767       |\n",
    "| MICHIGAN AVE & OAK ST                      | 4403       |\n",
    "| ASHLAND AVE & DIVISION ST                  | 3934       |\n",
    "| WABASH AVE & GRAND AVE                     | 3927       |\n",
    "| DUSABLE HARBOR                             | 3872       |\n",
    "| STATE ST & CHICAGO AVE                     | 3712       |\n",
    "| CLARK ST & WRIGHTWOOD AVE                  | 3591       |\n",
    "\n",
    "\n",
    "```\n",
    "\n",
    "**Top Start Stations**:\n",
    "\n",
    "`DUSABLE LAKE SHORE DR & NORTH BLVD: 6,203 rides`\n",
    "\n",
    "`STREETER DR & GRAND AVE: 5,021 rides`\n",
    "\n",
    "\n",
    "\n"
   ]
  },
  {
   "cell_type": "code",
   "execution_count": null,
   "metadata": {
    "execution": {
     "iopub.execute_input": "2024-09-24T04:38:50.011229Z",
     "iopub.status.busy": "2024-09-24T04:38:50.008749Z",
     "iopub.status.idle": "2024-09-24T04:38:50.111282Z"
    },
    "trusted": true,
    "vscode": {
     "languageId": "r"
    }
   },
   "outputs": [],
   "source": [
    "start_station_data <- read_csv(\"C:\\Users\\saswa\\Documents\\GitHub\\Cyclistic-Bike-Share--Analyzing-Rider-Behavior\\Data\\viz data\\10-ssn_trip_count.csv\")"
   ]
  },
  {
   "cell_type": "code",
   "execution_count": null,
   "metadata": {
    "execution": {
     "iopub.execute_input": "2024-09-24T04:41:20.471019Z",
     "iopub.status.busy": "2024-09-24T04:41:20.468602Z",
     "iopub.status.idle": "2024-09-24T04:41:20.806243Z"
    },
    "trusted": true,
    "vscode": {
     "languageId": "r"
    }
   },
   "outputs": [],
   "source": [
    "ggplot(start_station_data, aes(x = trip_count, y = reorder(start_station_name, trip_count))) +\n",
    "  geom_bar(stat = \"identity\", fill = \"steelblue\") +\n",
    "  labs(title = \"Top 10 Start Stations by Number of Rides\",\n",
    "       x = \"Number of Rides\",\n",
    "       y = \"Start Station\") +\n",
    "  theme_minimal() +\n",
    "  theme(\n",
    "    plot.title = element_text(size = 17, hjust = 0),  \n",
    "    axis.title.x = element_text(size = 16),          \n",
    "    axis.title.y = element_text(size = 16),           \n",
    "    axis.text.y = element_text(size = 12)             \n",
    "  ) +\n",
    "  scale_y_discrete(labels = wrap_format(15))  "
   ]
  },
  {
   "cell_type": "markdown",
   "metadata": {},
   "source": [
    "**Top End Stations**:\n",
    "\n",
    "```sql\n",
    "\n",
    "SELECT end_station_name, COUNT(*) AS trip_count\n",
    "FROM combined_tripdata\n",
    "GROUP BY end_station_name\n",
    "ORDER BY trip_count DESC\n",
    "LIMIT 10;\n",
    "\n",
    "\n",
    "```\n",
    "result:\n",
    "\n",
    "```sql\n",
    "\n",
    "| end_station_name                           | trip_count |\n",
    "|--------------------------------------------|------------|\n",
    "| STREETER DR & GRAND AVE                    | 12603      |\n",
    "| DUSABLE LAKE SHORE DR & NORTH BLVD         | 8391       |\n",
    "| HALSTED ST & CLYBOURN AVE                  | 4626       |\n",
    "| INDIANA AVE & ROOSEVELT RD                 | 4465       |\n",
    "| DEARBORN PKWY & DELAWARE PL                | 4342       |\n",
    "| CLINTON ST & JACKSON BLVD                  | 4215       |\n",
    "| SHEFFIELD AVE & FULLERTON AVE              | 3583       |\n",
    "| MLK JR DR & 29TH ST                        | 3567       |\n",
    "| CLARK ST & NORTH AVE                       | 3560       |\n",
    "| SEDGWICK ST & WEBSTER AVE                  | 3545       |\n",
    "\n",
    "\n",
    "```\n",
    "\n",
    "**Top End Stations**:\n",
    "\n",
    "`STREETER DR & GRAND AVE: 12,603 rides`\n",
    "\n",
    "`DUSABLE LAKE SHORE DR & NORTH BLVD: 8,391 rides`\n",
    "\n"
   ]
  },
  {
   "cell_type": "code",
   "execution_count": null,
   "metadata": {
    "execution": {
     "iopub.execute_input": "2024-09-24T04:42:31.840400Z",
     "iopub.status.busy": "2024-09-24T04:42:31.837967Z",
     "iopub.status.idle": "2024-09-24T04:42:31.942554Z"
    },
    "trusted": true,
    "vscode": {
     "languageId": "r"
    }
   },
   "outputs": [],
   "source": [
    "end_station_data <- read_csv(\"C:\\Users\\saswa\\Documents\\GitHub\\Cyclistic-Bike-Share--Analyzing-Rider-Behavior\\Data\\viz data\\11-esn_trip_count.csv\")"
   ]
  },
  {
   "cell_type": "code",
   "execution_count": null,
   "metadata": {
    "execution": {
     "iopub.execute_input": "2024-09-24T04:42:44.275056Z",
     "iopub.status.busy": "2024-09-24T04:42:44.272817Z",
     "iopub.status.idle": "2024-09-24T04:42:44.597988Z"
    },
    "trusted": true,
    "vscode": {
     "languageId": "r"
    }
   },
   "outputs": [],
   "source": [
    "ggplot(end_station_data, aes(x = trip_count, y = reorder(end_station_name, trip_count))) +\n",
    "  geom_bar(stat = \"identity\", fill = \"darkorange\") +\n",
    "  labs(title = \"Top 10 End Stations by Number of Rides\",\n",
    "       x = \"Number of Rides\",\n",
    "       y = \"End Station\") +\n",
    "  theme_minimal() +\n",
    "  theme(\n",
    "    plot.title = element_text(size = 17, hjust = 0),  \n",
    "    axis.title.x = element_text(size = 16),           \n",
    "    axis.title.y = element_text(size = 16),           \n",
    "    axis.text.y = element_text(size = 12)           \n",
    "  ) +\n",
    "  scale_y_discrete(labels = wrap_format(15)) "
   ]
  },
  {
   "cell_type": "markdown",
   "metadata": {},
   "source": [
    "**Step-4-Correlation Analysis**:\n",
    "\n",
    "Correlation Between Ride Length and Day of the Week:\n",
    "\n",
    "```sql\n",
    "\n",
    "SELECT \n",
    "    ROUND((COUNT(*) * SUM(ride_length_minutes * day_of_week) - SUM(ride_length_minutes) * SUM(day_of_week)) /\n",
    "    (SQRT((COUNT(*) * SUM(ride_length_minutes * ride_length_minutes) - SUM(ride_length_minutes) * SUM(ride_length_minutes)) *\n",
    "          (COUNT(*) * SUM(day_of_week * day_of_week) - SUM(day_of_week) * SUM(day_of_week)))), 5) AS correlation\n",
    "FROM combined_tripdata;\n",
    "\n",
    "\n",
    "```\n",
    "\n",
    "result:\n",
    "\n",
    "```sql\n",
    "\n",
    "| correlation |\n",
    "|-------------|\n",
    "| 0.0269      |\n",
    "\n",
    "\n",
    "```\n",
    "\n",
    "**Correlation coefficient**: 0.0269\n",
    "\n",
    "The correlation coefficient is quite low (close to 0), indicating a very weak positive relationship between ride length and the day of the week. This suggests that the length of rides does not vary significantly across different days of the week.\n",
    "\n"
   ]
  },
  {
   "cell_type": "code",
   "execution_count": null,
   "metadata": {
    "execution": {
     "iopub.execute_input": "2024-09-24T04:55:57.462619Z",
     "iopub.status.busy": "2024-09-24T04:55:57.460161Z",
     "iopub.status.idle": "2024-09-24T04:55:57.830115Z"
    },
    "trusted": true,
    "vscode": {
     "languageId": "r"
    }
   },
   "outputs": [],
   "source": [
    "main_data <- read_csv(\"C:\\Users\\saswa\\Documents\\GitHub\\Cyclistic-Bike-Share--Analyzing-Rider-Behavior\\Data\\viz data\\12-ride_length_minutes_day_of_week_rideable_type.csv\")"
   ]
  },
  {
   "cell_type": "code",
   "execution_count": null,
   "metadata": {
    "execution": {
     "iopub.execute_input": "2024-09-24T05:02:13.202131Z",
     "iopub.status.busy": "2024-09-24T05:02:13.199664Z",
     "iopub.status.idle": "2024-09-24T05:02:13.516300Z"
    },
    "trusted": true,
    "vscode": {
     "languageId": "r"
    }
   },
   "outputs": [],
   "source": [
    "avg_length_by_day <- main_data %>%\n",
    "  group_by(day_of_week) %>%\n",
    "  summarize(avg_ride_length_minutes = mean(ride_length_minutes, na.rm = TRUE))"
   ]
  },
  {
   "cell_type": "code",
   "execution_count": null,
   "metadata": {
    "execution": {
     "iopub.execute_input": "2024-09-24T05:02:30.181168Z",
     "iopub.status.busy": "2024-09-24T05:02:30.179082Z",
     "iopub.status.idle": "2024-09-24T05:02:30.237447Z"
    },
    "trusted": true,
    "vscode": {
     "languageId": "r"
    }
   },
   "outputs": [],
   "source": [
    "print(avg_length_by_day)"
   ]
  },
  {
   "cell_type": "code",
   "execution_count": null,
   "metadata": {
    "execution": {
     "iopub.execute_input": "2024-09-24T05:02:34.741380Z",
     "iopub.status.busy": "2024-09-24T05:02:34.739156Z",
     "iopub.status.idle": "2024-09-24T05:02:35.045500Z"
    },
    "trusted": true,
    "vscode": {
     "languageId": "r"
    }
   },
   "outputs": [],
   "source": [
    "ggplot(avg_length_by_day, aes(x = factor(day_of_week), y = avg_ride_length_minutes, fill = factor(day_of_week))) +\n",
    "  geom_bar(stat = \"identity\") +  # Create bars\n",
    "  labs(title = \"Average Ride Length by Day of the Week\",\n",
    "       x = \"Day of the Week\",\n",
    "       y = \"Average Ride Length (Minutes)\") +\n",
    "  theme_minimal() +\n",
    "  theme(\n",
    "    plot.title = element_text(size = 20, hjust = 0),  \n",
    "    axis.title.x = element_text(size = 16),          \n",
    "    axis.title.y = element_text(size = 16),          \n",
    "    legend.position = \"none\"                          \n",
    "  )"
   ]
  },
  {
   "cell_type": "markdown",
   "metadata": {},
   "source": [
    "**Ride Length by Rideable Type**:\n",
    "\n",
    "```sql\n",
    "\n",
    "SELECT rideable_type, ROUND(AVG(ride_length_minutes),2) AS avg_ride_length_minutes\n",
    "FROM combined_tripdata\n",
    "GROUP BY rideable_type;\n",
    "\n",
    "\n",
    "```\n",
    "result:\n",
    "\n",
    "```sql\n",
    "\n",
    "| rideable_type  | avg_ride_length_minutes       |\n",
    "|----------------|-------------------------------|\n",
    "| Electric Bike  | 13.24                         |\n",
    "| Classic Bike   | 17.93                         |\n",
    "\n",
    "\n",
    "```\n",
    "\n",
    "**Ride Length Values**:\n",
    "\n",
    "`Electric Bike: 13.24 minutes`\n",
    "\n",
    "`Classic Bike: 17.93 minutes`\n",
    "\n",
    "\n",
    "\n"
   ]
  },
  {
   "cell_type": "code",
   "execution_count": null,
   "metadata": {
    "execution": {
     "iopub.execute_input": "2024-09-24T05:04:30.086743Z",
     "iopub.status.busy": "2024-09-24T05:04:30.084369Z",
     "iopub.status.idle": "2024-09-24T05:04:30.135501Z"
    },
    "trusted": true,
    "vscode": {
     "languageId": "r"
    }
   },
   "outputs": [],
   "source": [
    "rideable_data <- main_data %>%\n",
    "  group_by(rideable_type) %>%\n",
    "  summarize(avg_ride_length_minutes = mean(ride_length_minutes, na.rm = TRUE))"
   ]
  },
  {
   "cell_type": "code",
   "execution_count": null,
   "metadata": {
    "execution": {
     "iopub.execute_input": "2024-09-24T05:04:37.141293Z",
     "iopub.status.busy": "2024-09-24T05:04:37.138955Z",
     "iopub.status.idle": "2024-09-24T05:04:37.168710Z"
    },
    "trusted": true,
    "vscode": {
     "languageId": "r"
    }
   },
   "outputs": [],
   "source": [
    "str(rideable_data)"
   ]
  },
  {
   "cell_type": "code",
   "execution_count": null,
   "metadata": {
    "execution": {
     "iopub.execute_input": "2024-09-24T05:05:19.923310Z",
     "iopub.status.busy": "2024-09-24T05:05:19.920238Z",
     "iopub.status.idle": "2024-09-24T05:05:20.239407Z"
    },
    "trusted": true,
    "vscode": {
     "languageId": "r"
    }
   },
   "outputs": [],
   "source": [
    "ggplot(rideable_data, aes(x = rideable_type, y = avg_ride_length_minutes, fill = rideable_type)) +\n",
    "  geom_bar(stat = \"identity\", width = 0.5) +  \n",
    "  labs(title = \"Average Ride Length by Rideable Type\",\n",
    "       x = \"Rideable Type\",\n",
    "       y = \"Average Ride Length (Minutes)\") +\n",
    "  theme_minimal() +\n",
    "  theme(\n",
    "    plot.title = element_text(size = 20, hjust = 0),           \n",
    "    axis.title.x = element_text(size = 18),                    \n",
    "    axis.title.y = element_text(size = 18),                    \n",
    "    axis.text.x = element_text(size = 14),                      \n",
    "    axis.text.y = element_text(size = 14),                      \n",
    "    legend.position = \"none\"                                  \n",
    "  )"
   ]
  },
  {
   "cell_type": "markdown",
   "metadata": {},
   "source": [
    "**Ride Length by Member Type**:\n",
    "\n",
    "```sql\n",
    "\n",
    "SELECT member_casual, ROUND(AVG(ride_length_minutes),2) AS avg_ride_length_minutes\n",
    "FROM combined_tripdata\n",
    "GROUP BY member_casual;\n",
    "\n",
    "\n",
    "```\n",
    "\n",
    "result:\n",
    "\n",
    "```sql\n",
    "\n",
    "| member_casual | avg_ride_length_minutes |\n",
    "|---------------|-------------------------|\n",
    "| member        | 12.43                   |\n",
    "| casual        | 22.36                   |\n",
    "\n",
    "\n",
    "```\n",
    "\n",
    "**Member Type Values**:\n",
    "\n",
    "`Member: 12.43 minutes`\n",
    "\n",
    "`Casual: 22.36 minutes`\n",
    "\n"
   ]
  },
  {
   "cell_type": "markdown",
   "metadata": {},
   "source": [
    "**Ride Length and Start Time (Hour of Day)**:\n",
    "\n",
    "```sql\n",
    "\n",
    "SELECT HOUR(started_at) AS hour_of_day, ROUND(AVG(ride_length_minutes),2) AS avg_ride_length_minutes\n",
    "FROM combined_tripdata\n",
    "GROUP BY hour_of_day\n",
    "ORDER BY hour_of_day;\n",
    "\n",
    "\n",
    "```\n",
    "\n",
    "result:\n",
    "\n",
    "```sql\n",
    "\n",
    "| hour_of_day | avg_ride_length_minutes |\n",
    "|-------------|-------------------------|\n",
    "| 0           | 15.52                   |\n",
    "| 1           | 16.80                   |\n",
    "| 2           | 17.53                   |\n",
    "| 3           | 13.87                   |\n",
    "| 4           | 13.51                   |\n",
    "| 5           | 11.56                   |\n",
    "| 6           | 11.44                   |\n",
    "| 7           | 12.40                   |\n",
    "| 8           | 12.66                   |\n",
    "| 9           | 15.05                   |\n",
    ".\n",
    ".\n",
    ".\n",
    "-- upto 23 hours\n",
    "\n",
    "\n",
    "```\n",
    "\n",
    "**Key findings**:\n",
    "\n",
    "Casual riders tend to have longer rides during mid-day hours (`10 AM to 3 PM`).\n",
    "Members show more consistent ride lengths throughout the day with slightly shorter average ride lengths.\n"
   ]
  },
  {
   "cell_type": "markdown",
   "metadata": {},
   "source": [
    "**Hourly Ride Lengths by Member Type**:\n",
    "\n",
    "```sql\n",
    "\n",
    "SELECT member_casual,HOUR(started_at) AS hour_of_day, ROUND(AVG(ride_length_minutes),2) AS avg_ride_length_minutes\n",
    "FROM combined_tripdata\n",
    "GROUP BY member_casual,hour_of_day\n",
    "ORDER BY avg_ride_length_minutes desc;\n",
    "\n",
    "\n",
    "```\n",
    "\n",
    "result\n",
    "(in same table):\n",
    "\n",
    "```sql\n",
    "\n",
    "-- Casual-\n",
    "\n",
    "|member_casual| Hour of Day | Average Ride Length (Minutes) |\n",
    "|-------------|-------------|-------------------------------|\n",
    "| Casual      | 0           | 19.01                         |\n",
    "| Casual      | 1           | 19.72                         |\n",
    "| Casual      | 2           | 20.73                         |\n",
    "| Casual      | 3           | 16.12                         |\n",
    "| Casual      | 4           | 15.44                         |\n",
    "| Casual      | 5           | 13.56                         |\n",
    "| Casual      | 6           | 14.15                         |\n",
    "| Casual      | 7           | 15.84                         |\n",
    "| Casual      | 8           | 16.88                         |\n",
    "| Casual      | 9           | 23.87                         |\n",
    ".\n",
    ".\n",
    ".\n",
    "-- upto 23 hours\n",
    "\n",
    "-- Member-\n",
    "\n",
    "| Member      | 0           | 11.85                         |\n",
    "| Member      | 1           | 13.15                         |\n",
    "| Member      | 2           | 13.26                         |\n",
    "| Member      | 3           | 11.57                         |\n",
    "| Member      | 4           | 12.35                         |\n",
    "| Member      | 5           | 10.95                         |\n",
    "| Member      | 6           | 10.84                         |\n",
    "| Member      | 7           | 11.63                         |\n",
    "| Member      | 8           | 11.54                         |\n",
    "| Member      | 9           | 11.55                         |\n",
    ".\n",
    ".\n",
    ".\n",
    "-- upto 23 hours\n",
    "\n",
    "\n",
    "```\n",
    "\n",
    "**Key findings**:\n",
    "\n",
    "Casual riders have significantly longer average ride lengths compared to members during the mid-day hours.\n"
   ]
  },
  {
   "cell_type": "markdown",
   "metadata": {},
   "source": [
    "#### Conclusion\n",
    "\n",
    "This analysis provides deep insights into rider behavior, patterns, and preferences based on key factors like ride length, time of day, and membership type. Each section highlights areas where marketing, operations, or pricing strategies can be fine-tuned to enhance user experience and optimize service delivery. These findings are crucial for designing a targeted marketing strategy aimed at converting casual riders into members, by offering tailored promotions, improving operational efficiency, and enhancing the overall riding experience."
   ]
  },
  {
   "cell_type": "markdown",
   "metadata": {},
   "source": [
    "## Share"
   ]
  },
  {
   "cell_type": "markdown",
   "metadata": {},
   "source": [
    "In the Share phase of my bike ridership case study, I will present key insights through clear and polished visualizations. These will highlight the differences between how annual members and casual riders use Cyclistic bikes. My goal is to communicate findings effectively to the executive team, ensuring the data is accessible and actionable."
   ]
  },
  {
   "cell_type": "markdown",
   "metadata": {},
   "source": [
    "**Step 1: Day-of-Week Analysis**:\n",
    "\n",
    "To understand ride popularity across different days of the week, I calculated the total number of rides for each day:\n",
    "\n",
    "```sql\n",
    "\n",
    "SELECT day_of_week, COUNT(*) AS frequency\n",
    "FROM combined_tripdata\n",
    "GROUP BY day_of_week\n",
    "ORDER BY frequency DESC;\n",
    "\n",
    "\n",
    "```\n",
    "\n",
    "result:\n",
    "\n",
    "```sql\n",
    "\n",
    "| day_of_week | frequency |\n",
    "|-------------|-----------|\n",
    "| 4           | 97265     |\n",
    "| 5           | 82427     |\n",
    "| 7           | 80930     |\n",
    "| 6           | 80736     |\n",
    "| 2           | 73277     |\n",
    "| 3           | 72887     |\n",
    "| 1           | 63566     |\n",
    "\n",
    "\n",
    "```\n",
    "**Key findings**:\n",
    "\n",
    "Wednesday has the highest number of rides (`97,265`), indicating mid-week peak activity.\n",
    "\n",
    "Sunday has the lowest number of rides (`63,566`), showing minimal ridership at the start of the week."
   ]
  },
  {
   "cell_type": "markdown",
   "metadata": {},
   "source": [
    "#### Visualization of Rides by Day of the Week\n",
    "\n",
    "I utilized the `ggplot2` package to create a bar chart visualizing the number of rides by day of the week:"
   ]
  },
  {
   "cell_type": "code",
   "execution_count": null,
   "metadata": {
    "execution": {
     "iopub.execute_input": "2024-09-24T10:44:36.212804Z",
     "iopub.status.busy": "2024-09-24T10:44:36.211018Z",
     "iopub.status.idle": "2024-09-24T10:44:36.667680Z"
    },
    "trusted": true,
    "vscode": {
     "languageId": "r"
    }
   },
   "outputs": [],
   "source": [
    "day_of_week_data <- read_csv(\"C:\\Users\\saswa\\Documents\\GitHub\\Cyclistic-Bike-Share--Analyzing-Rider-Behavior\\Data\\viz data\\4-day_of_week_ride_count.csv\")"
   ]
  },
  {
   "cell_type": "code",
   "execution_count": null,
   "metadata": {
    "execution": {
     "iopub.execute_input": "2024-09-24T10:44:39.741729Z",
     "iopub.status.busy": "2024-09-24T10:44:39.739770Z",
     "iopub.status.idle": "2024-09-24T10:44:40.294217Z"
    },
    "trusted": true,
    "vscode": {
     "languageId": "r"
    }
   },
   "outputs": [],
   "source": [
    "ggplot(day_of_week_data, aes(x = day_name, y = frequency)) +\n",
    "  geom_bar(stat = \"identity\", fill = \"steelblue\", width = 0.5) +\n",
    "  labs(title = \"Number of Rides by Day of the Week\",\n",
    "       x = \"Day of the Week\",\n",
    "       y = \"Number of Rides\") +\n",
    "  theme_minimal() +\n",
    "  theme(\n",
    "    plot.title = element_text(size = 20, hjust = 0),  \n",
    "    axis.title.x = element_text(size = 16),          \n",
    "    axis.title.y = element_text(size = 16)            \n",
    "  )"
   ]
  },
  {
   "cell_type": "markdown",
   "metadata": {},
   "source": [
    "**Step 2: Ride Behavior by Member Type**:\n",
    "\n",
    "I explored the average ride length and ride frequency for members and casual riders across the days of the week:\n",
    "\n",
    "* **Average Ride Length**:\n",
    "\n",
    "To analyze the average ride length, I executed the following SQL query:\n",
    "\n",
    "```sql\n",
    "\n",
    "SELECT member_casual, day_of_week, ROUND(AVG(ride_length_minutes), 2) AS avg_ride_length_minutes\n",
    "FROM combined_tripdata\n",
    "GROUP BY member_casual, day_of_week;\n",
    "\n",
    "\n",
    "```\n",
    "\n",
    "result:\n",
    "\n",
    "```sql\n",
    "\n",
    "| member_casual  | day_of_week | avg_ride_length_minutes  |\n",
    "|----------------|-------------|--------------------------|\n",
    "| member         | 6           | 12.29                    |\n",
    "| casual         | 5           | 20.46                    |\n",
    "| member         | 5           | 11.88                    |\n",
    "| member         | 7           | 14.22                    |\n",
    "| member         | 2           | 11.78                    |\n",
    "| member         | 4           | 12.18                    |\n",
    "| casual         | 4           | 19.74                    |\n",
    "| casual         | 7           | 26.25                    |\n",
    "| member         | 3           | 11.82                    |\n",
    "| member         | 1           | 13.73                    |\n",
    "| casual         | 1           | 25.23                    |\n",
    "| casual         | 2           | 21.22                    |\n",
    "| casual         | 3           | 18.52                    |\n",
    "| casual         | 6           | 22.00                    |\n",
    "\n",
    "\n",
    "```\n",
    "\n",
    "**Key findings**:\n",
    "\n",
    "Casual riders had the longest average ride lengths on Sundays (`26.25 minutes`).\n",
    "\n",
    "Members had shorter and more consistent ride lengths, averaging around `12-14 minutes` during the week.\n",
    "\n",
    "* **Ride Count**:\n",
    "\n",
    "To analyze ride frequency, I ran:\n",
    "\n",
    "```sql\n",
    "\n",
    "SELECT member_casual, day_of_week, COUNT(ride_id) AS ride_count\n",
    "FROM combined_tripdata\n",
    "GROUP BY member_casual, day_of_week;\n",
    "\n",
    "\n",
    "```\n",
    "result:\n",
    "\n",
    "```sql\n",
    "\n",
    "| member_casual  | day_of_week | ride_count |\n",
    "|----------------|-------------|------------|\n",
    "| member         | 6           | 50419      |\n",
    "| casual         | 5           | 24953      |\n",
    "| member         | 5           | 57474      |\n",
    "| member         | 7           | 41819      |\n",
    "| member         | 2           | 50496      |\n",
    "| member         | 4           | 69162      |\n",
    "| casual         | 4           | 28103      |\n",
    "| casual         | 7           | 39111      |\n",
    "| member         | 3           | 52901      |\n",
    "| member         | 1           | 34808      |\n",
    "| casual         | 1           | 28758      |\n",
    "| casual         | 2           | 22781      |\n",
    "| casual         | 3           | 19986      |\n",
    "| casual         | 6           | 30317      |\n",
    "\n",
    "\n",
    "```\n",
    "\n",
    "\n",
    "**Key Insights**:\n",
    "\n",
    "Members: Take more frequent rides with shorter durations.\n",
    "\n",
    "Casual riders: Have fewer rides but longer durations, especially on weekends.\n",
    "\n",
    "`Thursday`: Is the peak day for both members and casual riders.\n",
    "\n",
    "Weekends: Casual riders tend to have longer rides on weekends, particularly on `Sundays`.\n",
    "\n",
    "\n",
    "\n"
   ]
  },
  {
   "cell_type": "markdown",
   "metadata": {},
   "source": [
    "#### Visualization: Ride Count by Day of the Week\n",
    "\n",
    "To illustrate the ride counts, I created a line chart:"
   ]
  },
  {
   "cell_type": "code",
   "execution_count": null,
   "metadata": {
    "execution": {
     "iopub.execute_input": "2024-09-24T07:24:45.167195Z",
     "iopub.status.busy": "2024-09-24T07:24:45.164523Z",
     "iopub.status.idle": "2024-09-24T07:24:47.038344Z"
    },
    "trusted": true,
    "vscode": {
     "languageId": "r"
    }
   },
   "outputs": [],
   "source": [
    "ride_count_data <- read.csv(r\"C:\\Users\\saswa\\Documents\\GitHub\\Cyclistic-Bike-Share--Analyzing-Rider-Behavior\\Data\\viz data\\5-line_chart_ride_number_for_days_member_casual.csv\")"
   ]
  },
  {
   "cell_type": "code",
   "execution_count": null,
   "metadata": {
    "execution": {
     "iopub.execute_input": "2024-09-24T07:32:05.087584Z",
     "iopub.status.busy": "2024-09-24T07:32:05.085374Z",
     "iopub.status.idle": "2024-09-24T07:32:05.133210Z"
    },
    "trusted": true,
    "vscode": {
     "languageId": "r"
    }
   },
   "outputs": [],
   "source": [
    "ride_counts <- ride_count_data %>%\n",
    "  group_by(day_name, member_casual) %>%\n",
    "  summarise(ride_count = n(), .groups = \"drop\") "
   ]
  },
  {
   "cell_type": "code",
   "execution_count": null,
   "metadata": {
    "execution": {
     "iopub.execute_input": "2024-09-24T07:37:41.953486Z",
     "iopub.status.busy": "2024-09-24T07:37:41.951565Z",
     "iopub.status.idle": "2024-09-24T07:37:42.418025Z"
    },
    "trusted": true,
    "vscode": {
     "languageId": "r"
    }
   },
   "outputs": [],
   "source": [
    "line_chart <- ggplot(ride_counts, aes(x = day_name, y = ride_count, color = member_casual, group = member_casual)) +\n",
    "  geom_line(size = 1) +\n",
    "  geom_point(size = 3) +\n",
    "  geom_text(aes(label = ride_count), vjust = -0.5) + \n",
    "  labs(title = \"Ride Count by Day of Week\", x = \"Day of the Week\", y = \"Number of Rides\") +\n",
    "  theme_minimal() +\n",
    "  scale_color_manual(values = c(\"member\" = \"blue\", \"casual\" = \"black\")) + \n",
    "  theme(\n",
    "    plot.title = element_text(size = 16, face = \"bold\"),\n",
    "    axis.title.x = element_text(size = 14), \n",
    "    axis.title.y = element_text(size = 14),  \n",
    "    axis.text.x = element_text(size = 12, angle = 45, hjust = 1),    \n",
    "    axis.text.y = element_text(size = 12),    \n",
    "    legend.title = element_text(size = 14),   \n",
    "    legend.text = element_text(size = 12)       \n",
    "  )\n",
    "\n",
    "print(line_chart)"
   ]
  },
  {
   "cell_type": "markdown",
   "metadata": {},
   "source": [
    "#### Visualization: Average Ride Length Heatmap\n",
    "\n",
    "To further visualize average ride lengths, I created a heatmap:"
   ]
  },
  {
   "cell_type": "code",
   "execution_count": null,
   "metadata": {
    "execution": {
     "iopub.execute_input": "2024-09-24T07:38:20.567858Z",
     "iopub.status.busy": "2024-09-24T07:38:20.566105Z",
     "iopub.status.idle": "2024-09-24T07:38:20.600458Z"
    },
    "trusted": true,
    "vscode": {
     "languageId": "r"
    }
   },
   "outputs": [],
   "source": [
    "avg_ride_length_data <- read.csv(r\"C:\\Users\\saswa\\Documents\\GitHub\\Cyclistic-Bike-Share--Analyzing-Rider-Behavior\\Data\\viz data\\6-average_ride_length_heatmap.csv\")"
   ]
  },
  {
   "cell_type": "code",
   "execution_count": null,
   "metadata": {
    "execution": {
     "iopub.execute_input": "2024-09-24T07:39:33.829978Z",
     "iopub.status.busy": "2024-09-24T07:39:33.828020Z",
     "iopub.status.idle": "2024-09-24T07:39:34.197083Z"
    },
    "trusted": true,
    "vscode": {
     "languageId": "r"
    }
   },
   "outputs": [],
   "source": [
    "heatmap <- ggplot(avg_ride_length_data, aes(x = day_name, y = member_casual, fill = avg_ride_length_minutes)) +\n",
    "  geom_tile(color = \"black\") +  \n",
    "  scale_fill_gradient(low = \"#a0a0a0\", high = \"blue\") + \n",
    "  labs(x = \"Day of the Week\", y = \"Member Type\", fill = \"Average Ride Length (minutes)\") +\n",
    "  theme_minimal() +\n",
    "  theme(\n",
    "    axis.text.x = element_text(angle = 45, hjust = 1),  \n",
    "    axis.title.x = element_text(margin = margin(t = 10)),  \n",
    "    axis.title.y = element_text(margin = margin(r = 10))  \n",
    "  )\n",
    "\n",
    "print(heatmap)"
   ]
  },
  {
   "cell_type": "markdown",
   "metadata": {},
   "source": [
    "**Step-3-Distribution of Rides by Day of the Week**:\n",
    "\n",
    "To explore the distribution of rides across different days of the week, I performed a query to count the number of rides for each day.\n",
    "\n",
    "```sql\n",
    "\n",
    "SELECT day_of_week, COUNT(ride_id) AS ride_count\n",
    "FROM combined_tripdata\n",
    "GROUP BY day_of_week\n",
    "ORDER BY ride_count DESC;\n",
    "\n",
    "\n",
    "```\n",
    "result:\n",
    "\n",
    "```sql\n",
    "\n",
    "| Day of Week | Ride Count |\n",
    "|-------------|------------|\n",
    "| 1           | 63566      |\n",
    "| 2           | 73277      |\n",
    "| 3           | 72887      |\n",
    "| 4           | 97265      |\n",
    "| 5           | 82427      |\n",
    "| 6           | 80736      |\n",
    "| 7           | 80930      |\n",
    "\n",
    "\n",
    "```\n",
    "\n",
    "* **Rides by Day of the Week and Member Type**:\n",
    "\n",
    "I ran a query to count the number of rides for each day of the week, categorized by member and casual riders. This highlights differences in riding patterns between the two groups.\n",
    "\n",
    "```sql\n",
    "SELECT \n",
    "    day_of_week,\n",
    "    member_casual,\n",
    "    COUNT(ride_id) AS ride_count\n",
    "FROM combined_tripdata\n",
    "GROUP BY day_of_week, member_casual\n",
    "ORDER BY day_of_week, ride_count DESC;\n",
    "\n",
    "```\n",
    "\n",
    "result:\n",
    "\n",
    "```sql\n",
    "\n",
    "| Day of Week | Member Type | Ride Count |\n",
    "|-------------|-------------|------------|\n",
    "| 1           | Member      | 34808      |\n",
    "| 1           | Casual      | 28758      |\n",
    "| 2           | Member      | 50496      |\n",
    "| 2           | Casual      | 22781      |\n",
    "| 3           | Member      | 52901      |\n",
    "| 3           | Casual      | 19986      |\n",
    "| 4           | Member      | 69162      |\n",
    "| 4           | Casual      | 28103      |\n",
    "| 5           | Member      | 57474      |\n",
    "| 5           | Casual      | 24953      |\n",
    "| 6           | Member      | 50419      |\n",
    "| 6           | Casual      | 30317      |\n",
    "| 7           | Member      | 41819      |\n",
    "| 7           | Casual      | 39111      |\n",
    "\n",
    "\n",
    "```\n",
    "\n",
    "**Highest Usage Days**:\n",
    "\n",
    "`Wednesday(4)`: Most rides overall\n",
    "Weekend Days (`Saturday` and `Sunday`): Higher ride counts among casual riders\n",
    "Key Findings:\n",
    "\n",
    "Members show a more consistent ride count throughout the week.\n",
    "\n",
    "Casual riders exhibit a peak on weekends, reflecting recreational usage.\n",
    "\n",
    "Members' ride counts were more evenly distributed throughout the week, with slight peaks on `Wednesdays` and `Thursdays`."
   ]
  },
  {
   "cell_type": "markdown",
   "metadata": {},
   "source": [
    "#### Visualization: Rides by Day of the Week and Member Type\n",
    "\n",
    "To better understand the differences in ride behavior between members and casual riders, I created a stacked bar chart. The following R code was used to visualize ride counts by day of the week and rider type:"
   ]
  },
  {
   "cell_type": "code",
   "execution_count": null,
   "metadata": {
    "execution": {
     "iopub.execute_input": "2024-09-24T11:09:53.678297Z",
     "iopub.status.busy": "2024-09-24T11:09:53.676536Z",
     "iopub.status.idle": "2024-09-24T11:09:53.751019Z"
    },
    "trusted": true,
    "vscode": {
     "languageId": "r"
    }
   },
   "outputs": [],
   "source": [
    "stacked_ride_data <- read_csv(\"C:\\Users\\saswa\\Documents\\GitHub\\Cyclistic-Bike-Share--Analyzing-Rider-Behavior\\Data\\viz data\\13-day_of_week_member_casual_ride_count.csv\")\n"
   ]
  },
  {
   "cell_type": "code",
   "execution_count": null,
   "metadata": {
    "execution": {
     "iopub.execute_input": "2024-09-24T11:09:58.392054Z",
     "iopub.status.busy": "2024-09-24T11:09:58.390335Z",
     "iopub.status.idle": "2024-09-24T11:09:58.405386Z"
    },
    "trusted": true,
    "vscode": {
     "languageId": "r"
    }
   },
   "outputs": [],
   "source": [
    "day_names <- c(\"Sunday\", \"Monday\", \"Tuesday\", \"Wednesday\", \"Thursday\", \"Friday\", \"Saturday\")\n"
   ]
  },
  {
   "cell_type": "code",
   "execution_count": null,
   "metadata": {
    "execution": {
     "iopub.execute_input": "2024-09-24T11:10:00.317912Z",
     "iopub.status.busy": "2024-09-24T11:10:00.315811Z",
     "iopub.status.idle": "2024-09-24T11:10:00.331094Z"
    },
    "trusted": true,
    "vscode": {
     "languageId": "r"
    }
   },
   "outputs": [],
   "source": [
    "stacked_ride_data$day_of_week <- day_names[stacked_ride_data$day_of_week]\n"
   ]
  },
  {
   "cell_type": "code",
   "execution_count": null,
   "metadata": {
    "execution": {
     "iopub.execute_input": "2024-09-24T11:10:02.812099Z",
     "iopub.status.busy": "2024-09-24T11:10:02.810395Z",
     "iopub.status.idle": "2024-09-24T11:10:03.151471Z"
    },
    "trusted": true,
    "vscode": {
     "languageId": "r"
    }
   },
   "outputs": [],
   "source": [
    "ggplot(stacked_ride_data, aes(x = day_of_week, y = ride_count, fill = member_casual)) +\n",
    "  geom_bar(stat = \"identity\", position = \"stack\", color = \"black\") +  \n",
    "  scale_fill_manual(values = c(\"member\" = \"cyan\", \"casual\" = \"orange\")) +  \n",
    "  labs(title = \"Ride Count by Day of the Week and Member Type\",\n",
    "       x = \"Day of the Week\",\n",
    "       y = \"Number of Rides\",\n",
    "       fill = \"Rider Type\") +  \n",
    "  theme_minimal() +  \n",
    "  theme(\n",
    "    plot.title = element_text(size = 16, face = \"bold\", hjust = 0.5),  \n",
    "    axis.text.x = element_text(size = 12, angle = 45, hjust = 1),  \n",
    "    axis.text.y = element_text(size = 12),  \n",
    "    axis.title.x = element_text(size = 14),  \n",
    "    axis.title.y = element_text(size = 14)   \n",
    "  )"
   ]
  },
  {
   "cell_type": "markdown",
   "metadata": {},
   "source": [
    "**Step-4-Correlation between Ride Length and Station Start Location**:\n",
    "\n",
    "To investigate if certain start locations are associated with longer ride durations, I analyzed the average ride length for each start station.\n",
    "\n",
    "```sql\n",
    "\n",
    "SELECT start_station_name, ROUND(AVG(ride_length_minutes),2) AS avg_ride_length_minutes, COUNT(ride_id) AS ride_count\n",
    "FROM combined_tripdata\n",
    "GROUP BY start_station_name\n",
    "ORDER BY avg_ride_length_minutes DESC\n",
    "LIMIT 10;\n",
    "\n",
    "\n",
    "```\n",
    "result:\n",
    "\n",
    "```sql\n",
    "\n",
    "| Start Station Name                                         | Average Ride Length (Minutes) |\n",
    "|------------------------------------------------------------|-------------------------------|\n",
    "| GLENLAKE AVE & PULASKI RD                                  | 262.84                        |\n",
    "| PUBLIC RACK - HOLBROOK ST & MILWAUKEE AVE                  | 260.15                        |\n",
    "| ALTGELD GARDENS                                            | 259.13                        |\n",
    "| ROCKWELL ST & 63RD ST                                      | 163.19                        |\n",
    "| CARPENTER ST & 63RD ST                                     | 133.29                        |\n",
    "| BENNETT AVE & 79TH ST                                      | 112.52                        |\n",
    "| STATE ST & 123RD ST                                        | 108.47                        |\n",
    "| PUBLIC RACK - THE MONTESSORI SCHOOL OF ENGLEWOOD           | 95.27                         |\n",
    "| PARKSIDE AVE & ARMITAGE AVE                                | 94.07                         |\n",
    "| PUBLIC RACK - LAWRENCE AVE & KIMBALL AVE                   | 93.54                         |\n",
    "\n",
    "\n",
    "```\n",
    "\n",
    "**Key Findings**:\n",
    "\n",
    "Some start stations exhibit much higher-than-average ride lengths. These may correspond to less frequented locations or routes used for longer, more recreational rides.\n",
    "\n",
    "`GLENLAKE AVE & PULASKI RD` has the highest average ride length of `262.84 minutes`, indicating that riders may be taking exceptionally long trips from this location.\n",
    "\n",
    "* **Correlation Between Ride Length and Station Start/End Locations**\n",
    "\n",
    "The query investigates the average ride length between specific start and end station pairs, revealing the top 10 combinations with the longest ride durations.\n",
    "\n",
    "```sql\n",
    "\n",
    "SELECT \n",
    "    start_station_name,\n",
    "    end_station_name,\n",
    "    ROUND(AVG(ride_length_minutes),2) AS avg_ride_length_minutes\n",
    "FROM combined_tripdata\n",
    "GROUP BY start_station_name, end_station_name\n",
    "ORDER BY avg_ride_length_minutes DESC\n",
    "LIMIT 10;\n",
    "\n",
    "\n",
    "```\n",
    "result:\n",
    "```sql\n",
    "\n",
    "| Start Station Name                                        | End Station Name                                   | Average Ride Length (Minutes) |\n",
    "|-----------------------------------------------------------|----------------------------------------------------|-------------------------------|\n",
    "| ASHLAND AVE & CHICAGO AVE                                 | KEDZIE AVE & MILWAUKEE AVE                         | 629.92                        |\n",
    "| INDIANA AVE & ROOSEVELT RD                                | WINTHROP AVE & LAWRENCE AVE                        | 551.80                        |\n",
    "| RUSH ST & HUBBARD ST                                      | NEW HASTINGS                                       | 547.03                        |\n",
    "| WESTERN AVE & WALTON ST                                   | CAMPBELL AVE & FULLERTON AVE                       | 542.90                        |\n",
    "| ELLIS AVE & 60TH ST                                       | RICHMOND ST & 59TH ST                              | 519.97                        |\n",
    "| WALDEN PKWY & 100TH ST                                    | HALE AVE & 107TH ST                                | 516.43                        |\n",
    "| DESPLAINES ST & RANDOLPH ST                               | WESTERN AVE & WINNEBAGO AVE                        | 513.90                        |\n",
    "| GLENLAKE AVE & PULASKI RD                                 | KOSTNER AVE & BRYN MAWR AVE                        | 490.28                        |\n",
    "| RUSH ST & SUPERIOR ST                                     | DODGE AVE & MAIN ST                                | 483.48                        |\n",
    "| CLARK ST & ARMITAGE AVE                                   | DEARBORN ST & MONROE ST                            | 467.00                        |\n",
    "\n",
    "\n",
    "```\n",
    "\n",
    "**Key Findings**:\n",
    "\n",
    "High Ride Durations: Some pairs, like `Ashland Ave & Chicago Ave` to `Kedzie Ave & Milwaukee Ave`, show average ride times over `10 hours`, suggesting potential irregular usage or technical issues.\n",
    "\n",
    "Diverse Locations: The listed stations span various areas, indicating that long rides may relate to specific travel purposes or geographic factors.\n",
    "\n",
    "Lower Frequency: These pairs likely have fewer trips, pointing to routes primarily used for leisure or non-commuter travel."
   ]
  },
  {
   "cell_type": "markdown",
   "metadata": {},
   "source": [
    "**Step-5-Correlation between Member Type and Ride Count by Day of the Week**:\n",
    "\n",
    "To analyze the ride count based on member type and the day of the week, I executed the following SQL query:\n",
    "\n",
    "```sql\n",
    "SELECT member_casual, day_of_week, COUNT(ride_id) AS ride_count\n",
    "FROM combined_tripdata\n",
    "GROUP BY member_casual, day_of_week\n",
    "ORDER BY member_casual, day_of_week;\n",
    "\n",
    "```\n",
    "result:\n",
    "\n",
    "```sql\n",
    "\n",
    "| Member Type | Day of Week | Ride Count |\n",
    "|-------------|-------------|------------|\n",
    "| Casual      | 1           | 28758      |\n",
    "| Casual      | 2           | 22781      |\n",
    "| Casual      | 3           | 19986      |\n",
    "| Casual      | 4           | 28103      |\n",
    "| Casual      | 5           | 24953      |\n",
    "| Casual      | 6           | 30317      |\n",
    "| Casual      | 7           | 39111      |\n",
    "| Member      | 1           | 34808      |\n",
    "| Member      | 2           | 50496      |\n",
    "| Member      | 3           | 52901      |\n",
    "| Member      | 4           | 69162      |\n",
    "| Member      | 5           | 57474      |\n",
    "| Member      | 6           | 50419      |\n",
    "| Member      | 7           | 41819      |\n",
    "\n",
    "\n",
    "```\n",
    "\n",
    "**Key Findings**:\n",
    "\n",
    "Members have a more even distribution of rides across the week, whereas casual riders peak on weekends.\n"
   ]
  },
  {
   "cell_type": "markdown",
   "metadata": {},
   "source": [
    "**Step-6-Correlation between Ride Length and Station End Location**:\n",
    "\n",
    "Next, I explored the correlation between ride lengths and the end station locations using the following SQL query:\n",
    "\n",
    "```sql\n",
    "\n",
    "SELECT end_station_name, ROUND(AVG(ride_length_minutes),2) AS avg_ride_length_minutes\n",
    "FROM combined_tripdata\n",
    "GROUP BY end_station_name\n",
    "ORDER BY avg_ride_length_minutes DESC\n",
    "LIMIT 10;\n",
    "\n",
    "\n",
    "```\n",
    "result:\n",
    "\n",
    "```sql\n",
    "\n",
    "| End Station Name                                                | Average Ride Length (Minutes)  |\n",
    "|-----------------------------------------------------------------|--------------------------------|\n",
    "| NEW HASTINGS                                                    | 192.00                         |\n",
    "| PUBLIC RACK - KINZUA AVE & DEVON AVE                            | 169.60                         |\n",
    "| BLOOMINGDALE AVE & HARLEM AVE                                   | 151.56                         |\n",
    "| PUBLIC RACK - LAMON AVE & ERIE ST                               | 128.52                         |\n",
    "| PUBLIC RACK - KILDARE AVE & WASHIGNTON BLVD                     | 119.08                         |\n",
    "| PUBLIC RACK - OVERHILL AVE & TOUHY AVE                          | 109.84                         |\n",
    "| MAJOR AVE & BLOOMINGDALE AVE                                    | 107.05                         |\n",
    "| KILDARE AVE & 85TH ST (KOSTNER AVE & 87TH ST TEMPORARY)         | 96.88                          |\n",
    "| STONY ISLAND AVE & 90TH ST                                      | 81.97                          |\n",
    "| STATE ST & 123RD ST                                             | 76.37                          |\n",
    "\n",
    "\n",
    "```\n",
    "\n",
    "**Key Findings**:\n",
    "\n",
    "Similar to start stations, some end stations show higher average ride lengths, suggesting potential areas of interest or longer trips.\n"
   ]
  },
  {
   "cell_type": "markdown",
   "metadata": {},
   "source": [
    "**Step-7-Correlation between Hour of Day and Member Type**:\n",
    "\n",
    "I analyzed the relationship between the hour of the day and member type with the following SQL query:\n",
    "\n",
    "```sql\n",
    "\n",
    "SELECT HOUR(started_at) AS hour_of_day, member_casual, COUNT(ride_id) AS ride_count\n",
    "FROM combined_tripdata\n",
    "GROUP BY hour_of_day, member_casual\n",
    "ORDER BY hour_of_day;\n",
    "\n",
    "\n",
    "```\n",
    "result:\n",
    "\n",
    "```sql\n",
    "\n",
    "| Hour of Day | Member Type | Ride Count |\n",
    "|-------------|-------------|------------|\n",
    "| 0           | Casual      | 3049       |\n",
    "| 0           | Member      | 2891       |\n",
    "| 1           | Casual      | 2148       |\n",
    "| 1           | Member      | 1722       |\n",
    "| 2           | Casual      | 1362       |\n",
    "| 2           | Member      | 1021       |\n",
    "| 3           | Casual      | 693        |\n",
    "| 3           | Member      | 676        |\n",
    "| 4           | Casual      | 501        |\n",
    "| 4           | Member      | 827        |\n",
    "| 5           | Casual      | 1173       |\n",
    "| 5           | Member      | 3893       |\n",
    "| 6           | Casual      | 2434       |\n",
    "| 6           | Member      | 10980      |\n",
    "| 7           | Casual      | 4497       |\n",
    "| 7           | Member      | 20026      |\n",
    "| 8           | Casual      | 6461       |\n",
    "| 8           | Member      | 24364      |\n",
    "| 9           | Casual      | 6397       |\n",
    "| 9           | Member      | 16151      |\n",
    ".\n",
    ".\n",
    ".\n",
    "-- upto 23 hours\n",
    "\n",
    "\n",
    "```\n",
    "\n",
    "\n",
    "**Key Findings**:\n",
    "\n",
    "​\n",
    "Similar to start stations, some end stations show higher average ride lengths, suggesting potential areas of interest or longer trips.\n",
    "\n",
    "\n"
   ]
  },
  {
   "cell_type": "markdown",
   "metadata": {},
   "source": [
    "**Visualization: Ride Count Heatmap**\n",
    "\n",
    "To visualize the relationship between hour of the day and member type, I created a heatmap:"
   ]
  },
  {
   "cell_type": "code",
   "execution_count": null,
   "metadata": {
    "execution": {
     "iopub.execute_input": "2024-09-24T11:05:39.828442Z",
     "iopub.status.busy": "2024-09-24T11:05:39.826564Z",
     "iopub.status.idle": "2024-09-24T11:05:39.898746Z"
    },
    "trusted": true,
    "vscode": {
     "languageId": "r"
    }
   },
   "outputs": [],
   "source": [
    "ride_data_heatmap <- read_csv(\"C:\\Users\\saswa\\Documents\\GitHub\\Cyclistic-Bike-Share--Analyzing-Rider-Behavior\\Data\\viz data\\14-hour_of_day_member_causal_ride_count.csv\")"
   ]
  },
  {
   "cell_type": "code",
   "execution_count": null,
   "metadata": {
    "execution": {
     "iopub.execute_input": "2024-09-24T11:05:58.402704Z",
     "iopub.status.busy": "2024-09-24T11:05:58.400998Z",
     "iopub.status.idle": "2024-09-24T11:05:58.690182Z"
    },
    "trusted": true,
    "vscode": {
     "languageId": "r"
    }
   },
   "outputs": [],
   "source": [
    "ggplot(ride_data_heatmap, aes(x = factor(hour_of_day), y = member_casual, fill = ride_count)) +\n",
    "  geom_tile(color = \"black\") +  \n",
    "  scale_fill_gradient(low = \"white\", high = \"blue\") +  \n",
    "  labs(title = \"Ride Count Heatmap: Hour of Day vs Member Type\",\n",
    "       x = \"Hour of Day\",\n",
    "       y = \"Member Type\",\n",
    "       fill = \"Ride Count\") +  \n",
    "  theme_minimal() +  \n",
    "  theme(\n",
    "    axis.text.x = element_text(size = 12, angle = 45, hjust = 1),  \n",
    "    axis.text.y = element_text(size = 12),  \n",
    "    axis.title.x = element_text(size = 14, margin = margin(t = 10)),  \n",
    "    axis.title.y = element_text(size = 14, margin = margin(r = 10)),  \n",
    "    plot.title = element_text(size = 16, face = \"bold\", hjust = 0.5), \n",
    "    legend.title = element_text(size = 12),  \n",
    "    legend.text = element_text(size = 10)  \n",
    "  )"
   ]
  },
  {
   "cell_type": "markdown",
   "metadata": {},
   "source": [
    "### Conclusion\n",
    "\n",
    "In conclusion, my analysis highlighted significant differences in the behavior of annual members and casual riders. While members exhibit consistent ride patterns with shorter durations, casual riders tend to use bikes more on weekends and have longer rides, particularly on Sundays.\n",
    "\n",
    "**Key Insights Recap:**\n",
    "\n",
    "* Members show a steady usage throughout the week, while casual riders peak on weekends.\n",
    "\n",
    "* The visualizations effectively communicate these findings and make the data more accessible to the executive team."
   ]
  },
  {
   "cell_type": "markdown",
   "metadata": {},
   "source": [
    "## Act"
   ]
  },
  {
   "cell_type": "markdown",
   "metadata": {},
   "source": [
    "### **Final Conclusion**\n",
    "\n",
    "From the analysis of Cyclistic’s bike usage data, we observed distinct differences between **casual riders** and **annual members** in terms of **ride length, peak usage hours, and ride purpose**. **Members** tend to take **shorter rides**, especially during **peak commuting hours**, while **casual riders** engage in **longer, more leisurely rides, particularly during mid-day and weekends**. These insights provide clear opportunities to tailor marketing strategies to convert **casual riders into annual members** by addressing their **specific needs and usage patterns**.\n",
    "\n",
    "#### **Top Three Recommendations**\n",
    "\n",
    "**Promote Leisure Riding Benefits**: **Casual riders** are more likely to engage in **extended, recreational rides, particularly on weekends** and during **off-peak hours**. Cyclistic can develop marketing campaigns that emphasize the benefits of **membership for longer rides**, such as **discounted extended ride options** or **scenic route suggestions**. By positioning **membership** as a **value-add for leisure riders**, Cyclistic can attract **casual riders** who regularly engage in **longer trips**.\n",
    "\n",
    "**Offer Off-Peak Discounts**: Since **casual riders** dominate **off-peak hours**, Cyclistic could introduce **promotions or discounted rates** for rides during these times. This strategy can incentivize **casual riders** to use the service more frequently and potentially consider a **membership for long-term savings**. **Targeted offers**, such as **reduced fees for rides between 10 AM and 3 PM**, can convert casual riders who prefer riding during **non-commuting hours**.\n",
    "\n",
    "**Time-Based Membership Features**: Many **casual riders** prefer **mid-day and weekend rides**, while members tend to use bikes for **commuting during peak hours**. Cyclistic could introduce **flexible, time-based membership options** that cater to this behavior, such as **weekend-only memberships or pay-per-hour passes** that offer a **middle ground between casual riding and full membership**. Highlighting the **convenience and cost-effectiveness** of such options could appeal to **casual riders hesitant to commit to an annual plan**.\n",
    "\n",
    "#### **Application of Insights**\n",
    "\n",
    "These findings can be applied to develop targeted **marketing campaigns, refine pricing strategies, and optimize customer engagement**. Tailoring **membership features and promotions** to the distinct patterns of **casual riders** will increase the **likelihood of converting them to members**. The Cyclistic marketing team could leverage these insights in **personalized emails, app notifications, and social media campaigns** aimed at **casual riders who frequently take long rides or ride during off-peak hours**.\n",
    "\n",
    "#### **Next Steps**\n",
    "\n",
    "**Pilot New Membership Options**: Test new time-based or weekend membership packages with a selected group of casual riders.\n",
    "\n",
    "**Expand Data Analysis**: Further analyze rider demographics and preferences to refine marketing efforts and ensure targeted messaging.\n",
    "\n",
    "**Continuous Optimization**: Monitor the success of promotional offers and membership options through A/B testing and customer feedback.\n",
    "\n",
    "#### **Additional Data**\n",
    "\n",
    "To deepen this analysis, more granular data on demographics, rider motivations, and geographical locations would help further tailor marketing strategies and understand the key factors influencing casual rider behavior."
   ]
  }
 ],
 "metadata": {
  "kaggle": {
   "accelerator": "none",
   "dataSources": [
    {
     "datasetId": 5751148,
     "sourceId": 9460015,
     "sourceType": "datasetVersion"
    },
    {
     "datasetId": 5751605,
     "sourceId": 9460580,
     "sourceType": "datasetVersion"
    }
   ],
   "dockerImageVersionId": 30749,
   "isGpuEnabled": false,
   "isInternetEnabled": true,
   "language": "r",
   "sourceType": "notebook"
  },
  "kernelspec": {
   "display_name": "R",
   "language": "R",
   "name": "ir"
  },
  "language_info": {
   "codemirror_mode": "r",
   "file_extension": ".r",
   "mimetype": "text/x-r-source",
   "name": "R",
   "pygments_lexer": "r",
   "version": "4.5.0"
  }
 },
 "nbformat": 4,
 "nbformat_minor": 4
}
